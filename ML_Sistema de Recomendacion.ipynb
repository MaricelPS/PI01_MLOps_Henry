{
 "cells": [
  {
   "attachments": {},
   "cell_type": "markdown",
   "metadata": {},
   "source": [
    "### **ML - Sistema de Recomendación**"
   ]
  },
  {
   "attachments": {},
   "cell_type": "markdown",
   "metadata": {},
   "source": [
    "**Importo las librerias requeridas**"
   ]
  },
  {
   "cell_type": "code",
   "execution_count": 38,
   "metadata": {},
   "outputs": [],
   "source": [
    "import pandas as pd\n",
    "import numpy as np\n",
    "import matplotlib.pyplot as plt\n",
    "from surprise import Dataset, Reader, SVD\n",
    "\n",
    "from surprise import accuracy\n",
    "from surprise.model_selection import cross_validate\n",
    "from surprise.model_selection import train_test_split"
   ]
  },
  {
   "cell_type": "code",
   "execution_count": 2,
   "metadata": {},
   "outputs": [],
   "source": [
    "# Creo un dataframe con los datos transformados.\n",
    "url_1 = 'https://drive.google.com/uc?id=1Du_gvJUXktgUGZTi7dF7CHyR-R7H_U8m'\n",
    "df_movie_score = pd.read_csv(url_1)\n",
    "\n",
    "url_2 = 'https://drive.google.com/uc?id=1WKgEbecS7xL0bDIXjnPI73aIJ6QBWWzO'\n",
    "df_score_id_user = pd.read_parquet(url_2)"
   ]
  },
  {
   "cell_type": "code",
   "execution_count": 10,
   "metadata": {},
   "outputs": [
    {
     "data": {
      "text/html": [
       "<div>\n",
       "<style scoped>\n",
       "    .dataframe tbody tr th:only-of-type {\n",
       "        vertical-align: middle;\n",
       "    }\n",
       "\n",
       "    .dataframe tbody tr th {\n",
       "        vertical-align: top;\n",
       "    }\n",
       "\n",
       "    .dataframe thead th {\n",
       "        text-align: right;\n",
       "    }\n",
       "</style>\n",
       "<table border=\"1\" class=\"dataframe\">\n",
       "  <thead>\n",
       "    <tr style=\"text-align: right;\">\n",
       "      <th></th>\n",
       "      <th>id</th>\n",
       "      <th>title</th>\n",
       "    </tr>\n",
       "  </thead>\n",
       "  <tbody>\n",
       "    <tr>\n",
       "      <th>0</th>\n",
       "      <td>as1</td>\n",
       "      <td>the grand seduction</td>\n",
       "    </tr>\n",
       "    <tr>\n",
       "      <th>1</th>\n",
       "      <td>as2</td>\n",
       "      <td>take care good night</td>\n",
       "    </tr>\n",
       "    <tr>\n",
       "      <th>2</th>\n",
       "      <td>as3</td>\n",
       "      <td>secrets of deception</td>\n",
       "    </tr>\n",
       "    <tr>\n",
       "      <th>3</th>\n",
       "      <td>as4</td>\n",
       "      <td>pink: staying true</td>\n",
       "    </tr>\n",
       "    <tr>\n",
       "      <th>4</th>\n",
       "      <td>as5</td>\n",
       "      <td>monster maker</td>\n",
       "    </tr>\n",
       "    <tr>\n",
       "      <th>...</th>\n",
       "      <td>...</td>\n",
       "      <td>...</td>\n",
       "    </tr>\n",
       "    <tr>\n",
       "      <th>22993</th>\n",
       "      <td>ns8803</td>\n",
       "      <td>zodiac</td>\n",
       "    </tr>\n",
       "    <tr>\n",
       "      <th>22994</th>\n",
       "      <td>ns8804</td>\n",
       "      <td>zombie dumb</td>\n",
       "    </tr>\n",
       "    <tr>\n",
       "      <th>22995</th>\n",
       "      <td>ns8805</td>\n",
       "      <td>zombieland</td>\n",
       "    </tr>\n",
       "    <tr>\n",
       "      <th>22996</th>\n",
       "      <td>ns8806</td>\n",
       "      <td>zoom</td>\n",
       "    </tr>\n",
       "    <tr>\n",
       "      <th>22997</th>\n",
       "      <td>ns8807</td>\n",
       "      <td>zubaan</td>\n",
       "    </tr>\n",
       "  </tbody>\n",
       "</table>\n",
       "<p>22998 rows × 2 columns</p>\n",
       "</div>"
      ],
      "text/plain": [
       "           id                 title\n",
       "0         as1   the grand seduction\n",
       "1         as2  take care good night\n",
       "2         as3  secrets of deception\n",
       "3         as4    pink: staying true\n",
       "4         as5         monster maker\n",
       "...       ...                   ...\n",
       "22993  ns8803                zodiac\n",
       "22994  ns8804           zombie dumb\n",
       "22995  ns8805            zombieland\n",
       "22996  ns8806                  zoom\n",
       "22997  ns8807                zubaan\n",
       "\n",
       "[22998 rows x 2 columns]"
      ]
     },
     "execution_count": 10,
     "metadata": {},
     "output_type": "execute_result"
    }
   ],
   "source": [
    "# Del df_movie_score voy a tomar las columnas de 'id' y 'title'\n",
    "\n",
    "df_title = df_movie_score.loc[:,('id','title')]\n",
    "df_title"
   ]
  },
  {
   "cell_type": "code",
   "execution_count": 11,
   "metadata": {},
   "outputs": [
    {
     "data": {
      "text/html": [
       "<div>\n",
       "<style scoped>\n",
       "    .dataframe tbody tr th:only-of-type {\n",
       "        vertical-align: middle;\n",
       "    }\n",
       "\n",
       "    .dataframe tbody tr th {\n",
       "        vertical-align: top;\n",
       "    }\n",
       "\n",
       "    .dataframe thead th {\n",
       "        text-align: right;\n",
       "    }\n",
       "</style>\n",
       "<table border=\"1\" class=\"dataframe\">\n",
       "  <thead>\n",
       "    <tr style=\"text-align: right;\">\n",
       "      <th></th>\n",
       "      <th>id</th>\n",
       "      <th>userId</th>\n",
       "      <th>score</th>\n",
       "    </tr>\n",
       "  </thead>\n",
       "  <tbody>\n",
       "    <tr>\n",
       "      <th>0</th>\n",
       "      <td>as680</td>\n",
       "      <td>1</td>\n",
       "      <td>1.0</td>\n",
       "    </tr>\n",
       "    <tr>\n",
       "      <th>1</th>\n",
       "      <td>ns2186</td>\n",
       "      <td>1</td>\n",
       "      <td>4.5</td>\n",
       "    </tr>\n",
       "    <tr>\n",
       "      <th>2</th>\n",
       "      <td>hs2381</td>\n",
       "      <td>1</td>\n",
       "      <td>5.0</td>\n",
       "    </tr>\n",
       "    <tr>\n",
       "      <th>3</th>\n",
       "      <td>ns3663</td>\n",
       "      <td>1</td>\n",
       "      <td>5.0</td>\n",
       "    </tr>\n",
       "    <tr>\n",
       "      <th>4</th>\n",
       "      <td>as9500</td>\n",
       "      <td>1</td>\n",
       "      <td>5.0</td>\n",
       "    </tr>\n",
       "    <tr>\n",
       "      <th>...</th>\n",
       "      <td>...</td>\n",
       "      <td>...</td>\n",
       "      <td>...</td>\n",
       "    </tr>\n",
       "    <tr>\n",
       "      <th>11013818</th>\n",
       "      <td>ns5272</td>\n",
       "      <td>124380</td>\n",
       "      <td>4.5</td>\n",
       "    </tr>\n",
       "    <tr>\n",
       "      <th>11013819</th>\n",
       "      <td>ns5492</td>\n",
       "      <td>124380</td>\n",
       "      <td>2.5</td>\n",
       "    </tr>\n",
       "    <tr>\n",
       "      <th>11013820</th>\n",
       "      <td>hs305</td>\n",
       "      <td>124380</td>\n",
       "      <td>3.5</td>\n",
       "    </tr>\n",
       "    <tr>\n",
       "      <th>11013821</th>\n",
       "      <td>ns7881</td>\n",
       "      <td>124380</td>\n",
       "      <td>4.5</td>\n",
       "    </tr>\n",
       "    <tr>\n",
       "      <th>11013822</th>\n",
       "      <td>as883</td>\n",
       "      <td>124380</td>\n",
       "      <td>1.5</td>\n",
       "    </tr>\n",
       "  </tbody>\n",
       "</table>\n",
       "<p>11013823 rows × 3 columns</p>\n",
       "</div>"
      ],
      "text/plain": [
       "              id  userId  score\n",
       "0          as680       1    1.0\n",
       "1         ns2186       1    4.5\n",
       "2         hs2381       1    5.0\n",
       "3         ns3663       1    5.0\n",
       "4         as9500       1    5.0\n",
       "...          ...     ...    ...\n",
       "11013818  ns5272  124380    4.5\n",
       "11013819  ns5492  124380    2.5\n",
       "11013820   hs305  124380    3.5\n",
       "11013821  ns7881  124380    4.5\n",
       "11013822   as883  124380    1.5\n",
       "\n",
       "[11013823 rows x 3 columns]"
      ]
     },
     "execution_count": 11,
     "metadata": {},
     "output_type": "execute_result"
    }
   ],
   "source": [
    "df_score_id_user"
   ]
  },
  {
   "attachments": {},
   "cell_type": "markdown",
   "metadata": {},
   "source": [
    "Modelado con dataset df_score_id_user completo"
   ]
  },
  {
   "cell_type": "code",
   "execution_count": 40,
   "metadata": {},
   "outputs": [],
   "source": [
    "# Modelo con el total de los valores de score\n",
    "\n",
    "reader = Reader(rating_scale=(0.5,5))\n",
    "\n",
    "data = Dataset.load_from_df(df_score_id_user, reader=reader)"
   ]
  },
  {
   "cell_type": "code",
   "execution_count": 41,
   "metadata": {},
   "outputs": [],
   "source": [
    "# Separamos nuestros datos\n",
    "trainset, testset = train_test_split(data, test_size=0.25)"
   ]
  },
  {
   "cell_type": "code",
   "execution_count": 42,
   "metadata": {},
   "outputs": [],
   "source": [
    "# Uso el modelo de Singular Value Decomposition\n",
    "algo = SVD()"
   ]
  },
  {
   "cell_type": "code",
   "execution_count": 43,
   "metadata": {},
   "outputs": [
    {
     "data": {
      "text/plain": [
       "<surprise.prediction_algorithms.matrix_factorization.SVD at 0x226aaf6c4f0>"
      ]
     },
     "execution_count": 43,
     "metadata": {},
     "output_type": "execute_result"
    }
   ],
   "source": [
    "# Entreno el modelo\n",
    "algo.fit(trainset)"
   ]
  },
  {
   "cell_type": "code",
   "execution_count": 44,
   "metadata": {},
   "outputs": [],
   "source": [
    "# Hago la predicción con los datos testeados\n",
    "predictions = algo.test(testset)"
   ]
  },
  {
   "cell_type": "code",
   "execution_count": 45,
   "metadata": {},
   "outputs": [
    {
     "name": "stdout",
     "output_type": "stream",
     "text": [
      "user: 124380     item: ns5272     r_ui = 4.50   est = 3.53   {'was_impossible': False}\n"
     ]
    },
    {
     "data": {
      "text/plain": [
       "Prediction(uid='124380', iid='ns5272', r_ui=4.5, est=3.533552867566296, details={'was_impossible': False})"
      ]
     },
     "execution_count": 45,
     "metadata": {},
     "output_type": "execute_result"
    }
   ],
   "source": [
    "# Hago la predicción con un userId, una id al azar y un score al azar\n",
    "user_id = '124380'\n",
    "muvi_id = 'ns5272'\n",
    "r_ui = 4.5\n",
    "algo.predict(user_id, muvi_id, r_ui=r_ui, verbose=True)"
   ]
  },
  {
   "cell_type": "code",
   "execution_count": 47,
   "metadata": {},
   "outputs": [
    {
     "name": "stdout",
     "output_type": "stream",
     "text": [
      "Evaluating RMSE, MAE of algorithm SVD on 3 split(s).\n",
      "\n",
      "                  Fold 1  Fold 2  Fold 3  Mean    Std     \n",
      "RMSE (testset)    1.0009  1.0007  1.0017  1.0011  0.0004  \n",
      "MAE (testset)     0.7764  0.7765  0.7771  0.7767  0.0003  \n",
      "Fit time          160.82  198.18  201.79  186.93  18.52   \n",
      "Test time         301.56  369.47  191.71  287.58  73.24   \n"
     ]
    },
    {
     "data": {
      "text/plain": [
       "{'test_rmse': array([1.00088731, 1.0007144 , 1.00172835]),\n",
       " 'test_mae': array([0.77644054, 0.77653049, 0.77709484]),\n",
       " 'fit_time': (160.82145047187805, 198.17664289474487, 201.7859969139099),\n",
       " 'test_time': (301.5630090236664, 369.47217416763306, 191.71210885047913)}"
      ]
     },
     "execution_count": 47,
     "metadata": {},
     "output_type": "execute_result"
    }
   ],
   "source": [
    "cross_validate(algo, data, measures=['RMSE', 'MAE'], cv = 3, verbose=True)"
   ]
  },
  {
   "attachments": {},
   "cell_type": "markdown",
   "metadata": {},
   "source": [
    "Modelado con dataset df_score_id_user usando umbral"
   ]
  },
  {
   "cell_type": "code",
   "execution_count": 15,
   "metadata": {},
   "outputs": [],
   "source": [
    "reader = Reader()"
   ]
  },
  {
   "cell_type": "code",
   "execution_count": 16,
   "metadata": {},
   "outputs": [],
   "source": [
    "N_filas = 100000 # Limitamos el dataset a N_filas\n",
    "\n",
    "reader = Reader(rating_scale=(0.5,5))\n",
    "\n",
    "data = Dataset.load_from_df(df_score_id_user[['userId', 'id', 'score']][:N_filas], reader)"
   ]
  },
  {
   "cell_type": "code",
   "execution_count": 17,
   "metadata": {},
   "outputs": [],
   "source": [
    "# Separo los datos\n",
    "trainset, testset = train_test_split(data, test_size=.25)"
   ]
  },
  {
   "cell_type": "code",
   "execution_count": 18,
   "metadata": {},
   "outputs": [],
   "source": [
    "# Uso un modelo de Singular Value Decomposition\n",
    "model = SVD()"
   ]
  },
  {
   "cell_type": "code",
   "execution_count": 19,
   "metadata": {},
   "outputs": [
    {
     "data": {
      "text/plain": [
       "<surprise.prediction_algorithms.matrix_factorization.SVD at 0x1e8f95ee590>"
      ]
     },
     "execution_count": 19,
     "metadata": {},
     "output_type": "execute_result"
    }
   ],
   "source": [
    "# Entreno el modelo\n",
    "model.fit(trainset)"
   ]
  },
  {
   "cell_type": "code",
   "execution_count": 20,
   "metadata": {},
   "outputs": [],
   "source": [
    "# Predigo\n",
    "predictions = model.test(testset)"
   ]
  },
  {
   "cell_type": "code",
   "execution_count": 21,
   "metadata": {},
   "outputs": [
    {
     "data": {
      "text/plain": [
       "Prediction(uid=607, iid='as5265', r_ui=2.0, est=2.7349859539805266, details={'was_impossible': False})"
      ]
     },
     "execution_count": 21,
     "metadata": {},
     "output_type": "execute_result"
    }
   ],
   "source": [
    "predictions[1]"
   ]
  },
  {
   "cell_type": "code",
   "execution_count": 22,
   "metadata": {},
   "outputs": [
    {
     "data": {
      "text/plain": [
       "Prediction(uid=124380, iid='ns5272', r_ui=None, est=3.324642025686626, details={'was_impossible': False})"
      ]
     },
     "execution_count": 22,
     "metadata": {},
     "output_type": "execute_result"
    }
   ],
   "source": [
    "# Hacemos una predicción al azar para usuario y película\n",
    "model.predict(124380,'ns5272')"
   ]
  },
  {
   "cell_type": "code",
   "execution_count": 23,
   "metadata": {},
   "outputs": [
    {
     "data": {
      "text/html": [
       "<div>\n",
       "<style scoped>\n",
       "    .dataframe tbody tr th:only-of-type {\n",
       "        vertical-align: middle;\n",
       "    }\n",
       "\n",
       "    .dataframe tbody tr th {\n",
       "        vertical-align: top;\n",
       "    }\n",
       "\n",
       "    .dataframe thead th {\n",
       "        text-align: right;\n",
       "    }\n",
       "</style>\n",
       "<table border=\"1\" class=\"dataframe\">\n",
       "  <thead>\n",
       "    <tr style=\"text-align: right;\">\n",
       "      <th></th>\n",
       "      <th>id</th>\n",
       "      <th>userId</th>\n",
       "      <th>score</th>\n",
       "    </tr>\n",
       "  </thead>\n",
       "  <tbody>\n",
       "    <tr>\n",
       "      <th>0</th>\n",
       "      <td>as432</td>\n",
       "      <td>555</td>\n",
       "      <td>4.5</td>\n",
       "    </tr>\n",
       "    <tr>\n",
       "      <th>1</th>\n",
       "      <td>ns2476</td>\n",
       "      <td>555</td>\n",
       "      <td>5.0</td>\n",
       "    </tr>\n",
       "    <tr>\n",
       "      <th>2</th>\n",
       "      <td>as4001</td>\n",
       "      <td>555</td>\n",
       "      <td>4.0</td>\n",
       "    </tr>\n",
       "    <tr>\n",
       "      <th>3</th>\n",
       "      <td>as589</td>\n",
       "      <td>555</td>\n",
       "      <td>4.0</td>\n",
       "    </tr>\n",
       "    <tr>\n",
       "      <th>4</th>\n",
       "      <td>as1501</td>\n",
       "      <td>555</td>\n",
       "      <td>5.0</td>\n",
       "    </tr>\n",
       "    <tr>\n",
       "      <th>5</th>\n",
       "      <td>as1831</td>\n",
       "      <td>555</td>\n",
       "      <td>5.0</td>\n",
       "    </tr>\n",
       "    <tr>\n",
       "      <th>6</th>\n",
       "      <td>hs2690</td>\n",
       "      <td>555</td>\n",
       "      <td>5.0</td>\n",
       "    </tr>\n",
       "    <tr>\n",
       "      <th>7</th>\n",
       "      <td>as5912</td>\n",
       "      <td>555</td>\n",
       "      <td>5.0</td>\n",
       "    </tr>\n",
       "    <tr>\n",
       "      <th>8</th>\n",
       "      <td>ns766</td>\n",
       "      <td>555</td>\n",
       "      <td>5.0</td>\n",
       "    </tr>\n",
       "    <tr>\n",
       "      <th>9</th>\n",
       "      <td>as1800</td>\n",
       "      <td>555</td>\n",
       "      <td>5.0</td>\n",
       "    </tr>\n",
       "  </tbody>\n",
       "</table>\n",
       "</div>"
      ],
      "text/plain": [
       "       id  userId  score\n",
       "0   as432     555    4.5\n",
       "1  ns2476     555    5.0\n",
       "2  as4001     555    4.0\n",
       "3   as589     555    4.0\n",
       "4  as1501     555    5.0\n",
       "5  as1831     555    5.0\n",
       "6  hs2690     555    5.0\n",
       "7  as5912     555    5.0\n",
       "8   ns766     555    5.0\n",
       "9  as1800     555    5.0"
      ]
     },
     "execution_count": 23,
     "metadata": {},
     "output_type": "execute_result"
    }
   ],
   "source": [
    "# Tomo un usuario para hacerle una recomendación\n",
    "\n",
    "usuario = 555\n",
    "rating = 4   # Tomamos películas a las que haya calificado con 4 o 5 estrellas\n",
    "df_user = df_score_id_user[(df_score_id_user['userId'] == usuario) & (df_score_id_user['score'] >= rating)]\n",
    "df_user = df_user.reset_index(drop=True)\n",
    "df_user"
   ]
  },
  {
   "cell_type": "code",
   "execution_count": 24,
   "metadata": {},
   "outputs": [
    {
     "data": {
      "text/html": [
       "<div>\n",
       "<style scoped>\n",
       "    .dataframe tbody tr th:only-of-type {\n",
       "        vertical-align: middle;\n",
       "    }\n",
       "\n",
       "    .dataframe tbody tr th {\n",
       "        vertical-align: top;\n",
       "    }\n",
       "\n",
       "    .dataframe thead th {\n",
       "        text-align: right;\n",
       "    }\n",
       "</style>\n",
       "<table border=\"1\" class=\"dataframe\">\n",
       "  <thead>\n",
       "    <tr style=\"text-align: right;\">\n",
       "      <th></th>\n",
       "      <th>id</th>\n",
       "      <th>userId</th>\n",
       "      <th>score</th>\n",
       "      <th>title</th>\n",
       "    </tr>\n",
       "  </thead>\n",
       "  <tbody>\n",
       "    <tr>\n",
       "      <th>0</th>\n",
       "      <td>as432</td>\n",
       "      <td>555</td>\n",
       "      <td>4.5</td>\n",
       "      <td>the submarine kid</td>\n",
       "    </tr>\n",
       "    <tr>\n",
       "      <th>1</th>\n",
       "      <td>ns2476</td>\n",
       "      <td>555</td>\n",
       "      <td>5.0</td>\n",
       "      <td>si doel the movie 3</td>\n",
       "    </tr>\n",
       "    <tr>\n",
       "      <th>2</th>\n",
       "      <td>as4001</td>\n",
       "      <td>555</td>\n",
       "      <td>4.0</td>\n",
       "      <td>red metal: the copper country strike of 1913</td>\n",
       "    </tr>\n",
       "    <tr>\n",
       "      <th>3</th>\n",
       "      <td>as589</td>\n",
       "      <td>555</td>\n",
       "      <td>4.0</td>\n",
       "      <td>the kid from brooklyn</td>\n",
       "    </tr>\n",
       "    <tr>\n",
       "      <th>4</th>\n",
       "      <td>as1501</td>\n",
       "      <td>555</td>\n",
       "      <td>5.0</td>\n",
       "      <td>new york goes to hollywood</td>\n",
       "    </tr>\n",
       "    <tr>\n",
       "      <th>5</th>\n",
       "      <td>as1831</td>\n",
       "      <td>555</td>\n",
       "      <td>5.0</td>\n",
       "      <td>llamageddon</td>\n",
       "    </tr>\n",
       "    <tr>\n",
       "      <th>6</th>\n",
       "      <td>hs2690</td>\n",
       "      <td>555</td>\n",
       "      <td>5.0</td>\n",
       "      <td>how i met your mother</td>\n",
       "    </tr>\n",
       "    <tr>\n",
       "      <th>7</th>\n",
       "      <td>as5912</td>\n",
       "      <td>555</td>\n",
       "      <td>5.0</td>\n",
       "      <td>sucker punch</td>\n",
       "    </tr>\n",
       "    <tr>\n",
       "      <th>8</th>\n",
       "      <td>ns766</td>\n",
       "      <td>555</td>\n",
       "      <td>5.0</td>\n",
       "      <td>xtreme</td>\n",
       "    </tr>\n",
       "    <tr>\n",
       "      <th>9</th>\n",
       "      <td>as1800</td>\n",
       "      <td>555</td>\n",
       "      <td>5.0</td>\n",
       "      <td>love simple</td>\n",
       "    </tr>\n",
       "  </tbody>\n",
       "</table>\n",
       "</div>"
      ],
      "text/plain": [
       "       id  userId  score                                         title\n",
       "0   as432     555    4.5                             the submarine kid\n",
       "1  ns2476     555    5.0                           si doel the movie 3\n",
       "2  as4001     555    4.0  red metal: the copper country strike of 1913\n",
       "3   as589     555    4.0                         the kid from brooklyn\n",
       "4  as1501     555    5.0                    new york goes to hollywood\n",
       "5  as1831     555    5.0                                   llamageddon\n",
       "6  hs2690     555    5.0                         how i met your mother\n",
       "7  as5912     555    5.0                                  sucker punch\n",
       "8   ns766     555    5.0                                        xtreme\n",
       "9  as1800     555    5.0                                   love simple"
      ]
     },
     "execution_count": 24,
     "metadata": {},
     "output_type": "execute_result"
    }
   ],
   "source": [
    "pd.merge(df_user,df_title,how='inner',on='id')"
   ]
  },
  {
   "cell_type": "code",
   "execution_count": 25,
   "metadata": {},
   "outputs": [
    {
     "name": "stdout",
     "output_type": "stream",
     "text": [
      "(20000, 2)\n"
     ]
    },
    {
     "data": {
      "text/html": [
       "<div>\n",
       "<style scoped>\n",
       "    .dataframe tbody tr th:only-of-type {\n",
       "        vertical-align: middle;\n",
       "    }\n",
       "\n",
       "    .dataframe tbody tr th {\n",
       "        vertical-align: top;\n",
       "    }\n",
       "\n",
       "    .dataframe thead th {\n",
       "        text-align: right;\n",
       "    }\n",
       "</style>\n",
       "<table border=\"1\" class=\"dataframe\">\n",
       "  <thead>\n",
       "    <tr style=\"text-align: right;\">\n",
       "      <th></th>\n",
       "      <th>id</th>\n",
       "      <th>title</th>\n",
       "    </tr>\n",
       "  </thead>\n",
       "  <tbody>\n",
       "    <tr>\n",
       "      <th>0</th>\n",
       "      <td>as1</td>\n",
       "      <td>the grand seduction</td>\n",
       "    </tr>\n",
       "    <tr>\n",
       "      <th>1</th>\n",
       "      <td>as2</td>\n",
       "      <td>take care good night</td>\n",
       "    </tr>\n",
       "    <tr>\n",
       "      <th>2</th>\n",
       "      <td>as3</td>\n",
       "      <td>secrets of deception</td>\n",
       "    </tr>\n",
       "    <tr>\n",
       "      <th>3</th>\n",
       "      <td>as4</td>\n",
       "      <td>pink: staying true</td>\n",
       "    </tr>\n",
       "    <tr>\n",
       "      <th>4</th>\n",
       "      <td>as5</td>\n",
       "      <td>monster maker</td>\n",
       "    </tr>\n",
       "  </tbody>\n",
       "</table>\n",
       "</div>"
      ],
      "text/plain": [
       "    id                 title\n",
       "0  as1   the grand seduction\n",
       "1  as2  take care good night\n",
       "2  as3  secrets of deception\n",
       "3  as4    pink: staying true\n",
       "4  as5         monster maker"
      ]
     },
     "execution_count": 25,
     "metadata": {},
     "output_type": "execute_result"
    }
   ],
   "source": [
    "recomendaciones_usuario = df_title.iloc[:20000].copy()\n",
    "print(recomendaciones_usuario.shape)\n",
    "recomendaciones_usuario.head()"
   ]
  },
  {
   "cell_type": "code",
   "execution_count": 26,
   "metadata": {},
   "outputs": [
    {
     "name": "stdout",
     "output_type": "stream",
     "text": [
      "(18, 3)\n"
     ]
    },
    {
     "data": {
      "text/html": [
       "<div>\n",
       "<style scoped>\n",
       "    .dataframe tbody tr th:only-of-type {\n",
       "        vertical-align: middle;\n",
       "    }\n",
       "\n",
       "    .dataframe tbody tr th {\n",
       "        vertical-align: top;\n",
       "    }\n",
       "\n",
       "    .dataframe thead th {\n",
       "        text-align: right;\n",
       "    }\n",
       "</style>\n",
       "<table border=\"1\" class=\"dataframe\">\n",
       "  <thead>\n",
       "    <tr style=\"text-align: right;\">\n",
       "      <th></th>\n",
       "      <th>id</th>\n",
       "      <th>userId</th>\n",
       "      <th>score</th>\n",
       "    </tr>\n",
       "  </thead>\n",
       "  <tbody>\n",
       "    <tr>\n",
       "      <th>52672</th>\n",
       "      <td>ns7837</td>\n",
       "      <td>555</td>\n",
       "      <td>0.5</td>\n",
       "    </tr>\n",
       "    <tr>\n",
       "      <th>52673</th>\n",
       "      <td>as432</td>\n",
       "      <td>555</td>\n",
       "      <td>4.5</td>\n",
       "    </tr>\n",
       "    <tr>\n",
       "      <th>52674</th>\n",
       "      <td>ns2476</td>\n",
       "      <td>555</td>\n",
       "      <td>5.0</td>\n",
       "    </tr>\n",
       "    <tr>\n",
       "      <th>52675</th>\n",
       "      <td>hs2776</td>\n",
       "      <td>555</td>\n",
       "      <td>3.0</td>\n",
       "    </tr>\n",
       "    <tr>\n",
       "      <th>52676</th>\n",
       "      <td>ds634</td>\n",
       "      <td>555</td>\n",
       "      <td>1.0</td>\n",
       "    </tr>\n",
       "  </tbody>\n",
       "</table>\n",
       "</div>"
      ],
      "text/plain": [
       "           id  userId  score\n",
       "52672  ns7837     555    0.5\n",
       "52673   as432     555    4.5\n",
       "52674  ns2476     555    5.0\n",
       "52675  hs2776     555    3.0\n",
       "52676   ds634     555    1.0"
      ]
     },
     "execution_count": 26,
     "metadata": {},
     "output_type": "execute_result"
    }
   ],
   "source": [
    "# Debo extraer las películas que ya ha visto\n",
    "usuario_vistas = df_score_id_user[df_score_id_user['userId'] == usuario]\n",
    "print(usuario_vistas.shape)\n",
    "usuario_vistas.head()"
   ]
  },
  {
   "cell_type": "code",
   "execution_count": 27,
   "metadata": {},
   "outputs": [
    {
     "data": {
      "text/plain": [
       "(19983, 2)"
      ]
     },
     "execution_count": 27,
     "metadata": {},
     "output_type": "execute_result"
    }
   ],
   "source": [
    "# Eliminamos las peliculas que el usuario ya vió\n",
    "recomendaciones_usuario = recomendaciones_usuario[~recomendaciones_usuario['id'].isin(usuario_vistas['id'])]\n",
    "recomendaciones_usuario.shape"
   ]
  },
  {
   "cell_type": "code",
   "execution_count": 28,
   "metadata": {},
   "outputs": [],
   "source": [
    "# Recomiendo\n",
    "recomendaciones_usuario['estimate_Score'] = recomendaciones_usuario['id'].apply(lambda x: model.predict(usuario, x).est)"
   ]
  },
  {
   "cell_type": "code",
   "execution_count": 29,
   "metadata": {},
   "outputs": [
    {
     "name": "stdout",
     "output_type": "stream",
     "text": [
      "           id                   title  estimate_Score\n",
      "9277   as9278   welcome to the jungle        4.385649\n",
      "18936  ns4746      da kath & kim code        4.370683\n",
      "19567  ns5377           chasing coral        4.370670\n",
      "19292  ns5102          fun mom dinner        4.360147\n",
      "17339  ns3149  what's new scooby-doo?        4.355545\n",
      "2339   as2340        girls' last tour        4.346708\n",
      "3429   as3430         a dangerous man        4.330784\n",
      "4393   as4394    coimbatore mappillai        4.324171\n",
      "8231   as8232       the wheel of time        4.320205\n",
      "18693  ns4503        mr. chandramouli        4.311078\n"
     ]
    }
   ],
   "source": [
    "recomendaciones_usuario = recomendaciones_usuario.sort_values('estimate_Score', ascending=False)\n",
    "print(recomendaciones_usuario.head(10))"
   ]
  },
  {
   "attachments": {},
   "cell_type": "markdown",
   "metadata": {},
   "source": [
    "### **Modelo de Predicción ingresando un usuario (formato: userId) y una película (formato: id)**"
   ]
  },
  {
   "cell_type": "code",
   "execution_count": 30,
   "metadata": {},
   "outputs": [],
   "source": [
    "def get_movie_recommendation(userId, id):\n",
    "    # Obtenemos la predicción de la calificación que el usuario le daría a la película\n",
    "    prediction = model.predict(userId, str(id))\n",
    "\n",
    "    # Si la predicción es mayor o igual a 4, se recomienda la película\n",
    "    if prediction.est >= 4:\n",
    "        return \"Recomendada\", prediction.est\n",
    "    else:\n",
    "        return \"No recomendada\", prediction.est"
   ]
  },
  {
   "cell_type": "code",
   "execution_count": 35,
   "metadata": {},
   "outputs": [
    {
     "name": "stdout",
     "output_type": "stream",
     "text": [
      "La película es: ('Recomendada', 4.036442978543465)\n"
     ]
    }
   ],
   "source": [
    "# Ejemplo del funcionamiento de get_movie_recommendation\n",
    "\n",
    "# ID del usuario\n",
    "user_id = 432\n",
    "# ID de la película\n",
    "id = 'ns3149'\n",
    "\n",
    "# Obtener la recomendación para el usuario y la película\n",
    "recommendation = get_movie_recommendation(user_id, id)\n",
    "\n",
    "# Imprimir la recomendación\n",
    "print(\"La película es:\", recommendation)"
   ]
  },
  {
   "attachments": {},
   "cell_type": "markdown",
   "metadata": {},
   "source": [
    "### **Evaluación**"
   ]
  },
  {
   "cell_type": "code",
   "execution_count": 36,
   "metadata": {},
   "outputs": [
    {
     "name": "stdout",
     "output_type": "stream",
     "text": [
      "RMSE: 0.9543\n"
     ]
    },
    {
     "data": {
      "text/plain": [
       "0.9543439564112763"
      ]
     },
     "execution_count": 36,
     "metadata": {},
     "output_type": "execute_result"
    }
   ],
   "source": [
    "# Evalúo accuracy del modelo\n",
    "\n",
    "from surprise import accuracy\n",
    "accuracy.rmse(predictions)"
   ]
  },
  {
   "attachments": {},
   "cell_type": "markdown",
   "metadata": {},
   "source": [
    "## **Optimización de hiperparámetros**\n",
    "\n",
    "a) Con dataset df_score_id_user completo\n"
   ]
  },
  {
   "cell_type": "code",
   "execution_count": 78,
   "metadata": {},
   "outputs": [
    {
     "name": "stdout",
     "output_type": "stream",
     "text": [
      "1\n",
      "Evaluating RMSE of algorithm SVD on 3 split(s).\n",
      "\n",
      "                  Fold 1  Fold 2  Fold 3  Mean    Std     \n",
      "RMSE (testset)    0.9666  0.9660  0.9651  0.9659  0.0006  \n",
      "Fit time          117.44  117.90  115.57  116.97  1.01    \n",
      "Test time         285.55  156.66  200.65  214.29  53.50   \n",
      "2\n",
      "Evaluating RMSE of algorithm SVD on 3 split(s).\n",
      "\n",
      "                  Fold 1  Fold 2  Fold 3  Mean    Std     \n",
      "RMSE (testset)    0.9668  0.9665  0.9672  0.9668  0.0003  \n",
      "Fit time          101.67  111.12  109.82  107.54  4.18    \n",
      "Test time         2927.58 202.29  451.86  1193.91 1230.12 \n",
      "4\n",
      "Evaluating RMSE of algorithm SVD on 3 split(s).\n",
      "\n",
      "                  Fold 1  Fold 2  Fold 3  Mean    Std     \n",
      "RMSE (testset)    0.9683  0.9680  0.9682  0.9682  0.0001  \n",
      "Fit time          127.61  115.54  139.48  127.55  9.77    \n",
      "Test time         465.27  242.73  429.03  379.01  97.49   \n",
      "8\n",
      "Evaluating RMSE of algorithm SVD on 3 split(s).\n",
      "\n",
      "                  Fold 1  Fold 2  Fold 3  Mean    Std     \n",
      "RMSE (testset)    0.9710  0.9703  0.9706  0.9706  0.0003  \n",
      "Fit time          116.18  160.38  147.63  141.40  18.58   \n",
      "Test time         410.28  399.06  330.74  380.03  35.15   \n",
      "16\n",
      "Evaluating RMSE of algorithm SVD on 3 split(s).\n",
      "\n",
      "                  Fold 1  Fold 2  Fold 3  Mean    Std     \n",
      "RMSE (testset)    0.9758  0.9751  0.9750  0.9753  0.0004  \n",
      "Fit time          128.45  143.37  157.45  143.09  11.84   \n",
      "Test time         226.63  381.91  214.18  274.24  76.30   \n",
      "32\n",
      "Evaluating RMSE of algorithm SVD on 3 split(s).\n",
      "\n",
      "                  Fold 1  Fold 2  Fold 3  Mean    Std     \n",
      "RMSE (testset)    0.9832  0.9829  0.9827  0.9829  0.0002  \n",
      "Fit time          132.53  143.99  117.71  131.41  10.76   \n",
      "Test time         233.04  229.84  176.17  213.02  26.09   \n",
      "64\n",
      "Evaluating RMSE of algorithm SVD on 3 split(s).\n",
      "\n",
      "                  Fold 1  Fold 2  Fold 3  Mean    Std     \n",
      "RMSE (testset)    0.9936  0.9936  0.9932  0.9935  0.0002  \n",
      "Fit time          120.98  151.19  196.67  156.28  31.11   \n",
      "Test time         2178.85 284.74  331.31  931.64  882.12  \n",
      "128\n",
      "Evaluating RMSE of algorithm SVD on 3 split(s).\n",
      "\n",
      "                  Fold 1  Fold 2  Fold 3  Mean    Std     \n",
      "RMSE (testset)    1.0051  1.0049  1.0046  1.0049  0.0002  \n",
      "Fit time          159.73  209.15  218.48  195.79  25.78   \n",
      "Test time         263.34  186.30  309.01  252.88  50.64   \n"
     ]
    }
   ],
   "source": [
    "from surprise.model_selection import cross_validate\n",
    "\n",
    "rmse_test_means = []\n",
    "factores = [1,2,4,8,16,32,64,128]\n",
    "\n",
    "for factor in factores:\n",
    "    print(factor)\n",
    "    model = SVD(n_factors=factor)\n",
    "    cv = cross_validate(model, data, measures=['RMSE'], cv = 3, verbose=True)\n",
    "    rmse_test_means.append(np.mean(cv['test_rmse']))"
   ]
  },
  {
   "cell_type": "code",
   "execution_count": 79,
   "metadata": {},
   "outputs": [
    {
     "data": {
      "image/png": "[encoded data removed]",
      "text/plain": [
       "<Figure size 432x288 with 1 Axes>"
      ]
     },
     "metadata": {
      "needs_background": "light"
     },
     "output_type": "display_data"
    }
   ],
   "source": [
    "# Ploteamos desempeño según cantidad de factores de SVD\n",
    "\n",
    "plt.scatter(factores, rmse_test_means)\n",
    "plt.xlabel('Numero de factores')\n",
    "plt.ylabel('Error RMSE')\n",
    "plt.show()"
   ]
  },
  {
   "attachments": {},
   "cell_type": "markdown",
   "metadata": {},
   "source": [
    "b) Con dataset df_score_id_user con umbral"
   ]
  },
  {
   "cell_type": "code",
   "execution_count": 155,
   "metadata": {},
   "outputs": [
    {
     "name": "stdout",
     "output_type": "stream",
     "text": [
      "1\n",
      "Evaluating RMSE of algorithm SVD on 3 split(s).\n",
      "\n",
      "                  Fold 1  Fold 2  Fold 3  Mean    Std     \n",
      "RMSE (testset)    0.9584  0.9552  0.9522  0.9553  0.0025  \n",
      "Fit time          0.51    0.52    0.52    0.52    0.01    \n",
      "Test time         0.19    0.20    0.20    0.20    0.00    \n",
      "2\n",
      "Evaluating RMSE of algorithm SVD on 3 split(s).\n",
      "\n",
      "                  Fold 1  Fold 2  Fold 3  Mean    Std     \n",
      "RMSE (testset)    0.9559  0.9546  0.9558  0.9554  0.0006  \n",
      "Fit time          0.54    0.55    0.53    0.54    0.01    \n",
      "Test time         0.21    0.21    0.21    0.21    0.00    \n",
      "4\n",
      "Evaluating RMSE of algorithm SVD on 3 split(s).\n",
      "\n",
      "                  Fold 1  Fold 2  Fold 3  Mean    Std     \n",
      "RMSE (testset)    0.9591  0.9543  0.9508  0.9547  0.0034  \n",
      "Fit time          0.55    0.59    0.58    0.58    0.02    \n",
      "Test time         0.44    0.21    0.20    0.28    0.11    \n",
      "8\n",
      "Evaluating RMSE of algorithm SVD on 3 split(s).\n",
      "\n",
      "                  Fold 1  Fold 2  Fold 3  Mean    Std     \n",
      "RMSE (testset)    0.9619  0.9547  0.9520  0.9562  0.0042  \n",
      "Fit time          0.60    0.68    0.65    0.65    0.03    \n",
      "Test time         0.22    0.20    0.21    0.21    0.01    \n",
      "16\n",
      "Evaluating RMSE of algorithm SVD on 3 split(s).\n",
      "\n",
      "                  Fold 1  Fold 2  Fold 3  Mean    Std     \n",
      "RMSE (testset)    0.9570  0.9544  0.9584  0.9566  0.0017  \n",
      "Fit time          0.71    0.72    0.75    0.73    0.02    \n",
      "Test time         0.20    0.21    0.20    0.21    0.00    \n",
      "32\n",
      "Evaluating RMSE of algorithm SVD on 3 split(s).\n",
      "\n",
      "                  Fold 1  Fold 2  Fold 3  Mean    Std     \n",
      "RMSE (testset)    0.9603  0.9624  0.9537  0.9588  0.0037  \n",
      "Fit time          0.82    0.84    0.86    0.84    0.02    \n",
      "Test time         0.43    0.21    0.21    0.28    0.11    \n",
      "64\n",
      "Evaluating RMSE of algorithm SVD on 3 split(s).\n",
      "\n",
      "                  Fold 1  Fold 2  Fold 3  Mean    Std     \n",
      "RMSE (testset)    0.9597  0.9618  0.9606  0.9607  0.0009  \n",
      "Fit time          1.04    1.04    1.07    1.05    0.01    \n",
      "Test time         0.21    0.21    0.21    0.21    0.00    \n",
      "128\n",
      "Evaluating RMSE of algorithm SVD on 3 split(s).\n",
      "\n",
      "                  Fold 1  Fold 2  Fold 3  Mean    Std     \n",
      "RMSE (testset)    0.9660  0.9686  0.9665  0.9670  0.0011  \n",
      "Fit time          1.32    1.35    1.35    1.34    0.02    \n",
      "Test time         0.20    0.22    0.23    0.22    0.01    \n",
      "256\n",
      "Evaluating RMSE of algorithm SVD on 3 split(s).\n",
      "\n",
      "                  Fold 1  Fold 2  Fold 3  Mean    Std     \n",
      "RMSE (testset)    0.9696  0.9755  0.9730  0.9727  0.0024  \n",
      "Fit time          1.94    1.85    1.88    1.89    0.04    \n",
      "Test time         0.44    0.21    0.21    0.29    0.11    \n"
     ]
    }
   ],
   "source": [
    "from surprise.model_selection import cross_validate\n",
    "\n",
    "rmse_test_means = []\n",
    "factores = [1,2,4,8,16,32,64,128,256]\n",
    "\n",
    "for factor in factores:\n",
    "    print(factor)\n",
    "    model = SVD(n_factors=factor)\n",
    "    cv = cross_validate(model, data, measures=['RMSE'], cv = 3, verbose=True)\n",
    "    rmse_test_means.append(np.mean(cv['test_rmse']))"
   ]
  },
  {
   "cell_type": "code",
   "execution_count": 156,
   "metadata": {},
   "outputs": [
    {
     "data": {
      "image/png": "[encoded data removed]",
      "text/plain": [
       "<Figure size 432x288 with 1 Axes>"
      ]
     },
     "metadata": {
      "needs_background": "light"
     },
     "output_type": "display_data"
    }
   ],
   "source": [
    "# Ploteo desempeño según cantidad de factores de SVD\n",
    "\n",
    "plt.scatter(factores, rmse_test_means)\n",
    "plt.xlabel('Numero de factores')\n",
    "plt.ylabel('Error RMSE')\n",
    "plt.show()"
   ]
  },
  {
   "cell_type": "code",
   "execution_count": 157,
   "metadata": {},
   "outputs": [],
   "source": [
    "from surprise.model_selection import GridSearchCV\n",
    "\n",
    "param_grid = {'n_factors': [5,50,100],'n_epochs': [5, 10,20], 'lr_all': [0.001, 0.002, 0.005],\n",
    "              'reg_all': [0.002, 0.02, 0.2]}\n",
    "gs = GridSearchCV(SVD, param_grid, measures=['rmse'], cv=3, n_jobs = -1)\n",
    "gs.fit(data)"
   ]
  },
  {
   "cell_type": "code",
   "execution_count": 158,
   "metadata": {},
   "outputs": [
    {
     "name": "stdout",
     "output_type": "stream",
     "text": [
      "0.9484976149331708\n",
      "{'n_factors': 5, 'n_epochs': 20, 'lr_all': 0.002, 'reg_all': 0.002}\n"
     ]
    }
   ],
   "source": [
    "# Observo la performance del mejor modelo\n",
    "\n",
    "print(gs.best_score['rmse'])\n",
    "print(gs.best_params['rmse'])"
   ]
  },
  {
   "attachments": {},
   "cell_type": "markdown",
   "metadata": {},
   "source": [
    "## **Gradio - Interfaz de Consulta**"
   ]
  },
  {
   "cell_type": "code",
   "execution_count": 41,
   "metadata": {},
   "outputs": [],
   "source": [
    "# Creo una función para averiguar el nombre de película \n",
    "\n",
    "def get_title_movie(id):\n",
    "    return df_title[df_title.id == id].title.iloc[0].title()"
   ]
  },
  {
   "cell_type": "code",
   "execution_count": 42,
   "metadata": {},
   "outputs": [
    {
     "data": {
      "text/plain": [
       "\"Girls' Last Tour\""
      ]
     },
     "execution_count": 42,
     "metadata": {},
     "output_type": "execute_result"
    }
   ],
   "source": [
    "get_title_movie('as2340')"
   ]
  },
  {
   "cell_type": "code",
   "execution_count": 43,
   "metadata": {},
   "outputs": [],
   "source": [
    "# Combino las funciones 'get_title_movie' y 'get_movie_recommendation'\n",
    "\n",
    "def functions(userId, id):\n",
    "    recommended, score = get_movie_recommendation(userId, id)\n",
    "    title = get_title_movie(id)\n",
    "    return (recommended, score, title)"
   ]
  },
  {
   "cell_type": "code",
   "execution_count": 44,
   "metadata": {},
   "outputs": [
    {
     "data": {
      "text/plain": [
       "('No recomendada', 3.747965563677545, \"Girls' Last Tour\")"
      ]
     },
     "execution_count": 44,
     "metadata": {},
     "output_type": "execute_result"
    }
   ],
   "source": [
    "functions(17339, 'as2340')"
   ]
  },
  {
   "cell_type": "code",
   "execution_count": 45,
   "metadata": {},
   "outputs": [],
   "source": [
    "# Importo la libreria de gradio para hacer la interfaz\n",
    "import gradio as gr"
   ]
  },
  {
   "cell_type": "code",
   "execution_count": 48,
   "metadata": {},
   "outputs": [
    {
     "name": "stderr",
     "output_type": "stream",
     "text": [
      "c:\\Users\\maric\\AppData\\Local\\Programs\\Python\\Python310\\lib\\site-packages\\gradio\\inputs.py:59: UserWarning: Usage of gradio.inputs is deprecated, and will not be supported in the future, please import your component from gradio.components\n",
      "  warnings.warn(\n",
      "c:\\Users\\maric\\AppData\\Local\\Programs\\Python\\Python310\\lib\\site-packages\\gradio\\deprecation.py:40: UserWarning: `optional` parameter is deprecated, and it has no effect\n",
      "  warnings.warn(value)\n"
     ]
    },
    {
     "name": "stdout",
     "output_type": "stream",
     "text": [
      "Running on local URL:  http://127.0.0.1:7863\n",
      "Running on public URL: https://291b16deb86906980d.gradio.live\n",
      "\n",
      "This share link expires in 72 hours. For free permanent hosting and GPU upgrades (NEW!), check out Spaces: https://huggingface.co/spaces\n"
     ]
    },
    {
     "data": {
      "text/html": [
       "<div><iframe src=\"https://291b16deb86906980d.gradio.live\" width=\"100%\" height=\"500\" allow=\"autoplay; camera; microphone; clipboard-read; clipboard-write;\" frameborder=\"0\" allowfullscreen></iframe></div>"
      ],
      "text/plain": [
       "<IPython.core.display.HTML object>"
      ]
     },
     "metadata": {},
     "output_type": "display_data"
    },
    {
     "data": {
      "text/plain": []
     },
     "execution_count": 48,
     "metadata": {},
     "output_type": "execute_result"
    }
   ],
   "source": [
    "title = str(\"Recomendación de peliculas\")\n",
    "\n",
    "with gr.Blocks(title= title) as demo:\n",
    "    text = gr.components.HTML(\"\"\"\n",
    "    <h1>Sistema de recomendación de películas. ¡¿Qué más ver?!</h1>\n",
    "    \"\"\")\n",
    "    userId = gr.inputs.Number(label=\"Ingresar id de usuario\")\n",
    "    id = gr.Textbox(label=\"Ingresar id de la película\")\n",
    "    get_recommendation_btn = gr.Button(\"La película seleccionada  para vos\")\n",
    "    title = gr.Textbox(label = \"Nombre de la película:\")\n",
    "    output = gr.Textbox(label=\"¿La película seleccionada es recomendada para vos?\")\n",
    "    score = gr.Textbox(label=\"Predicción del puntaje:\")\n",
    "    get_recommendation_btn.click(fn=functions, inputs=[userId,id], outputs=[output, score, title])\n",
    "\n",
    "demo.launch(share=True)"
   ]
  }
 ],
 "metadata": {
  "kernelspec": {
   "display_name": "Python 3",
   "language": "python",
   "name": "python3"
  },
  "language_info": {
   "codemirror_mode": {
    "name": "ipython",
    "version": 3
   },
   "file_extension": ".py",
   "mimetype": "text/x-python",
   "name": "python",
   "nbconvert_exporter": "python",
   "pygments_lexer": "ipython3",
   "version": "3.10.4"
  },
  "orig_nbformat": 4,
  "vscode": {
   "interpreter": {
    "hash": "8bb75a0417e56ed74b4ba1ade63598b502a6b4cb8034008f37da554d82e17920"
   }
  }
 },
 "nbformat": 4,
 "nbformat_minor": 2
}
