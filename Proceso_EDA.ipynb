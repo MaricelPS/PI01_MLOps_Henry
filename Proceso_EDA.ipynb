{
 "cells": [
  {
   "attachments": {},
   "cell_type": "markdown",
   "metadata": {},
   "source": [
    "### **Proceso de EDA**"
   ]
  },
  {
   "attachments": {},
   "cell_type": "markdown",
   "metadata": {},
   "source": [
    "**Importo las librerias requeridas**"
   ]
  },
  {
   "cell_type": "code",
   "execution_count": 1,
   "metadata": {},
   "outputs": [],
   "source": [
    "import numpy as np\n",
    "import pandas as pd\n",
    "import matplotlib.pyplot as plt\n",
    "import seaborn as sns\n",
    "sns.set()\n",
    "\n",
    "import gc "
   ]
  },
  {
   "cell_type": "code",
   "execution_count": 2,
   "metadata": {},
   "outputs": [],
   "source": [
    "# Importo los datasets del proceso ETL\n",
    "\n",
    "url_1 = 'https://drive.google.com/uc?id=1Du_gvJUXktgUGZTi7dF7CHyR-R7H_U8m'\n",
    "df_movie_score = pd.read_csv(url_1)\n",
    "\n",
    "url_2 = 'https://drive.google.com/uc?id=1sRRt0Pz6grtoC7TNTNQEnmL60-EO-bzA'\n",
    "df_score_total = pd.read_parquet(url_2)"
   ]
  },
  {
   "attachments": {},
   "cell_type": "markdown",
   "metadata": {},
   "source": [
    "### **Análisis Exploratorio de Datos**\n",
    "\n",
    "**1) Movies.**"
   ]
  },
  {
   "cell_type": "code",
   "execution_count": 4,
   "metadata": {},
   "outputs": [
    {
     "name": "stdout",
     "output_type": "stream",
     "text": [
      "<class 'pandas.core.frame.DataFrame'>\n",
      "RangeIndex: 22998 entries, 0 to 22997\n",
      "Data columns (total 16 columns):\n",
      " #   Column         Non-Null Count  Dtype  \n",
      "---  ------         --------------  -----  \n",
      " 0   id             22998 non-null  object \n",
      " 1   show_id        22998 non-null  object \n",
      " 2   type           22998 non-null  object \n",
      " 3   title          22998 non-null  object \n",
      " 4   director       14739 non-null  object \n",
      " 5   cast           17677 non-null  object \n",
      " 6   country        11499 non-null  object \n",
      " 7   date_added     13444 non-null  object \n",
      " 8   release_year   22998 non-null  int64  \n",
      " 9   rating         22998 non-null  object \n",
      " 10  listed_in      22998 non-null  object \n",
      " 11  description    22994 non-null  object \n",
      " 12  plataforma     22998 non-null  object \n",
      " 13  duration_int   22516 non-null  float64\n",
      " 14  duration_type  22516 non-null  object \n",
      " 15  score          22998 non-null  float64\n",
      "dtypes: float64(2), int64(1), object(13)\n",
      "memory usage: 2.8+ MB\n"
     ]
    }
   ],
   "source": [
    "# Visualizo la información\n",
    "df_movie_score.info()"
   ]
  },
  {
   "cell_type": "code",
   "execution_count": 5,
   "metadata": {},
   "outputs": [
    {
     "data": {
      "text/html": [
       "<div>\n",
       "<style scoped>\n",
       "    .dataframe tbody tr th:only-of-type {\n",
       "        vertical-align: middle;\n",
       "    }\n",
       "\n",
       "    .dataframe tbody tr th {\n",
       "        vertical-align: top;\n",
       "    }\n",
       "\n",
       "    .dataframe thead th {\n",
       "        text-align: right;\n",
       "    }\n",
       "</style>\n",
       "<table border=\"1\" class=\"dataframe\">\n",
       "  <thead>\n",
       "    <tr style=\"text-align: right;\">\n",
       "      <th></th>\n",
       "      <th>id</th>\n",
       "      <th>show_id</th>\n",
       "      <th>type</th>\n",
       "      <th>title</th>\n",
       "      <th>director</th>\n",
       "      <th>cast</th>\n",
       "      <th>country</th>\n",
       "      <th>date_added</th>\n",
       "      <th>release_year</th>\n",
       "      <th>rating</th>\n",
       "      <th>listed_in</th>\n",
       "      <th>description</th>\n",
       "      <th>plataforma</th>\n",
       "      <th>duration_int</th>\n",
       "      <th>duration_type</th>\n",
       "      <th>score</th>\n",
       "    </tr>\n",
       "  </thead>\n",
       "  <tbody>\n",
       "    <tr>\n",
       "      <th>0</th>\n",
       "      <td>as1</td>\n",
       "      <td>s1</td>\n",
       "      <td>movie</td>\n",
       "      <td>the grand seduction</td>\n",
       "      <td>don mckellar</td>\n",
       "      <td>brendan gleeson, taylor kitsch, gordon pinsent</td>\n",
       "      <td>canada</td>\n",
       "      <td>2021-03-30</td>\n",
       "      <td>2014</td>\n",
       "      <td>g</td>\n",
       "      <td>comedy, drama</td>\n",
       "      <td>a small fishing village must procure a local d...</td>\n",
       "      <td>amazon</td>\n",
       "      <td>113.0</td>\n",
       "      <td>min</td>\n",
       "      <td>3.5</td>\n",
       "    </tr>\n",
       "    <tr>\n",
       "      <th>1</th>\n",
       "      <td>as2</td>\n",
       "      <td>s2</td>\n",
       "      <td>movie</td>\n",
       "      <td>take care good night</td>\n",
       "      <td>girish joshi</td>\n",
       "      <td>mahesh manjrekar, abhay mahajan, sachin khedekar</td>\n",
       "      <td>india</td>\n",
       "      <td>2021-03-30</td>\n",
       "      <td>2018</td>\n",
       "      <td>13+</td>\n",
       "      <td>drama, international</td>\n",
       "      <td>a metro family decides to fight a cyber crimin...</td>\n",
       "      <td>amazon</td>\n",
       "      <td>110.0</td>\n",
       "      <td>min</td>\n",
       "      <td>3.5</td>\n",
       "    </tr>\n",
       "    <tr>\n",
       "      <th>2</th>\n",
       "      <td>as3</td>\n",
       "      <td>s3</td>\n",
       "      <td>movie</td>\n",
       "      <td>secrets of deception</td>\n",
       "      <td>josh webber</td>\n",
       "      <td>tom sizemore, lorenzo lamas, robert lasardo, r...</td>\n",
       "      <td>united states</td>\n",
       "      <td>2021-03-30</td>\n",
       "      <td>2017</td>\n",
       "      <td>g</td>\n",
       "      <td>action, drama, suspense</td>\n",
       "      <td>after a man discovers his wife is cheating on ...</td>\n",
       "      <td>amazon</td>\n",
       "      <td>74.0</td>\n",
       "      <td>min</td>\n",
       "      <td>3.5</td>\n",
       "    </tr>\n",
       "    <tr>\n",
       "      <th>3</th>\n",
       "      <td>as4</td>\n",
       "      <td>s4</td>\n",
       "      <td>movie</td>\n",
       "      <td>pink: staying true</td>\n",
       "      <td>sonia anderson</td>\n",
       "      <td>interviews with: pink, adele, beyoncé, britney...</td>\n",
       "      <td>united states</td>\n",
       "      <td>2021-03-30</td>\n",
       "      <td>2014</td>\n",
       "      <td>g</td>\n",
       "      <td>documentary</td>\n",
       "      <td>pink breaks the mold once again, bringing her ...</td>\n",
       "      <td>amazon</td>\n",
       "      <td>69.0</td>\n",
       "      <td>min</td>\n",
       "      <td>3.5</td>\n",
       "    </tr>\n",
       "    <tr>\n",
       "      <th>4</th>\n",
       "      <td>as5</td>\n",
       "      <td>s5</td>\n",
       "      <td>movie</td>\n",
       "      <td>monster maker</td>\n",
       "      <td>giles foster</td>\n",
       "      <td>harry dean stanton, kieran o'brien, george cos...</td>\n",
       "      <td>united kingdom</td>\n",
       "      <td>2021-03-30</td>\n",
       "      <td>1989</td>\n",
       "      <td>g</td>\n",
       "      <td>drama, fantasy</td>\n",
       "      <td>teenage matt banting wants to work with a famo...</td>\n",
       "      <td>amazon</td>\n",
       "      <td>45.0</td>\n",
       "      <td>min</td>\n",
       "      <td>3.5</td>\n",
       "    </tr>\n",
       "  </tbody>\n",
       "</table>\n",
       "</div>"
      ],
      "text/plain": [
       "    id show_id   type                 title        director  \\\n",
       "0  as1      s1  movie   the grand seduction    don mckellar   \n",
       "1  as2      s2  movie  take care good night    girish joshi   \n",
       "2  as3      s3  movie  secrets of deception     josh webber   \n",
       "3  as4      s4  movie    pink: staying true  sonia anderson   \n",
       "4  as5      s5  movie         monster maker    giles foster   \n",
       "\n",
       "                                                cast         country  \\\n",
       "0     brendan gleeson, taylor kitsch, gordon pinsent          canada   \n",
       "1   mahesh manjrekar, abhay mahajan, sachin khedekar           india   \n",
       "2  tom sizemore, lorenzo lamas, robert lasardo, r...   united states   \n",
       "3  interviews with: pink, adele, beyoncé, britney...   united states   \n",
       "4  harry dean stanton, kieran o'brien, george cos...  united kingdom   \n",
       "\n",
       "   date_added  release_year rating                listed_in  \\\n",
       "0  2021-03-30          2014      g            comedy, drama   \n",
       "1  2021-03-30          2018    13+     drama, international   \n",
       "2  2021-03-30          2017      g  action, drama, suspense   \n",
       "3  2021-03-30          2014      g              documentary   \n",
       "4  2021-03-30          1989      g           drama, fantasy   \n",
       "\n",
       "                                         description plataforma  duration_int  \\\n",
       "0  a small fishing village must procure a local d...     amazon         113.0   \n",
       "1  a metro family decides to fight a cyber crimin...     amazon         110.0   \n",
       "2  after a man discovers his wife is cheating on ...     amazon          74.0   \n",
       "3  pink breaks the mold once again, bringing her ...     amazon          69.0   \n",
       "4  teenage matt banting wants to work with a famo...     amazon          45.0   \n",
       "\n",
       "  duration_type  score  \n",
       "0           min    3.5  \n",
       "1           min    3.5  \n",
       "2           min    3.5  \n",
       "3           min    3.5  \n",
       "4           min    3.5  "
      ]
     },
     "execution_count": 5,
     "metadata": {},
     "output_type": "execute_result"
    }
   ],
   "source": [
    "df_movie_score.head()"
   ]
  },
  {
   "cell_type": "code",
   "execution_count": 10,
   "metadata": {},
   "outputs": [
    {
     "data": {
      "text/plain": [
       "0"
      ]
     },
     "execution_count": 10,
     "metadata": {},
     "output_type": "execute_result"
    }
   ],
   "source": [
    "# Controlo que no haya duplicados\n",
    "df_movie_score.duplicated().sum()"
   ]
  },
  {
   "cell_type": "code",
   "execution_count": 6,
   "metadata": {},
   "outputs": [
    {
     "data": {
      "text/plain": [
       "id                   0\n",
       "show_id              0\n",
       "type                 0\n",
       "title                0\n",
       "director          8259\n",
       "cast              5321\n",
       "country          11499\n",
       "date_added        9554\n",
       "release_year         0\n",
       "rating               0\n",
       "listed_in            0\n",
       "description          4\n",
       "plataforma           0\n",
       "duration_int       482\n",
       "duration_type      482\n",
       "score                0\n",
       "dtype: int64"
      ]
     },
     "execution_count": 6,
     "metadata": {},
     "output_type": "execute_result"
    }
   ],
   "source": [
    "# Visualizo los datos faltantes\n",
    "df_movie_score.isnull().sum()"
   ]
  },
  {
   "cell_type": "code",
   "execution_count": 3,
   "metadata": {},
   "outputs": [
    {
     "name": "stdout",
     "output_type": "stream",
     "text": [
      "Porcentaje de valores faltantes de la columna director: 35.91181841899296\n",
      "Porcentaje de valores faltantes de la columna cast: 23.1367945038699\n",
      "Porcentaje de valores faltantes de la columna country: 50.0\n",
      "Porcentaje de valores faltantes de la columna date_added: 41.5427428472041\n"
     ]
    }
   ],
   "source": [
    "# Evaluo el porcentaje de datos faltantes\n",
    "\n",
    "print('Porcentaje de valores faltantes de la columna director:', (df_movie_score.director.isnull().sum()/len(df_movie_score)) * 100)\n",
    "print('Porcentaje de valores faltantes de la columna cast:', (df_movie_score.cast.isnull().sum()/len(df_movie_score)) * 100)\n",
    "print('Porcentaje de valores faltantes de la columna country:', (df_movie_score.country.isnull().sum()/len(df_movie_score)) * 100)\n",
    "print('Porcentaje de valores faltantes de la columna date_added:', (df_movie_score.date_added.isnull().sum()/len(df_movie_score)) * 100)"
   ]
  },
  {
   "cell_type": "code",
   "execution_count": 4,
   "metadata": {},
   "outputs": [],
   "source": [
    "# Las columnas con datos faltantes corresponden a 'director', 'cast', 'country', 'date_added', 'duration_type' (datos categóricos) y 'duration_int'. \n",
    "# Coloco SD/NA donde tengamos datos faltantes en esas columnas.\n",
    "\n",
    "df_movie_score.director.replace(np.nan, 'SD', inplace = True)\n",
    "df_movie_score.cast.replace(np.nan, 'SD', inplace = True)\n",
    "df_movie_score.country.replace(np.nan, 'SD', inplace = True)\n",
    "df_movie_score.date_added.replace(np.nan, 'SD', inplace = True)\n",
    "df_movie_score.duration_int .replace(np.nan, 'NA', inplace = True)\n",
    "df_movie_score.duration_type .replace(np.nan, 'SD', inplace = True)"
   ]
  },
  {
   "cell_type": "code",
   "execution_count": 5,
   "metadata": {},
   "outputs": [
    {
     "data": {
      "image/png": "[encoded data removed]",
      "text/plain": [
       "<Figure size 432x288 with 4 Axes>"
      ]
     },
     "metadata": {
      "needs_background": "light"
     },
     "output_type": "display_data"
    }
   ],
   "source": [
    "# Realizo un histograma.\n",
    "# Visualizo grafico de dispersión entre columnas\n",
    "\n",
    "pd.plotting.scatter_matrix(df_movie_score, alpha=0.2) \n",
    "plt.show()"
   ]
  },
  {
   "attachments": {},
   "cell_type": "markdown",
   "metadata": {},
   "source": [
    "**2) Score.**"
   ]
  },
  {
   "cell_type": "code",
   "execution_count": 102,
   "metadata": {},
   "outputs": [
    {
     "name": "stdout",
     "output_type": "stream",
     "text": [
      "<class 'pandas.core.frame.DataFrame'>\n",
      "RangeIndex: 11024289 entries, 0 to 11024288\n",
      "Data columns (total 4 columns):\n",
      " #   Column     Dtype         \n",
      "---  ------     -----         \n",
      " 0   userId     int64         \n",
      " 1   score      float64       \n",
      " 2   timestamp  datetime64[ns]\n",
      " 3   id         object        \n",
      "dtypes: datetime64[ns](1), float64(1), int64(1), object(1)\n",
      "memory usage: 336.4+ MB\n"
     ]
    }
   ],
   "source": [
    "# Visualizo la información. \n",
    "# Este Dataset va a ser con el que vamos a trabajar en el sistema de recomendación, por lo cual lo analizaré en detalle.\n",
    "\n",
    "df_score_total.info()"
   ]
  },
  {
   "cell_type": "code",
   "execution_count": 103,
   "metadata": {},
   "outputs": [
    {
     "data": {
      "text/html": [
       "<div>\n",
       "<style scoped>\n",
       "    .dataframe tbody tr th:only-of-type {\n",
       "        vertical-align: middle;\n",
       "    }\n",
       "\n",
       "    .dataframe tbody tr th {\n",
       "        vertical-align: top;\n",
       "    }\n",
       "\n",
       "    .dataframe thead th {\n",
       "        text-align: right;\n",
       "    }\n",
       "</style>\n",
       "<table border=\"1\" class=\"dataframe\">\n",
       "  <thead>\n",
       "    <tr style=\"text-align: right;\">\n",
       "      <th></th>\n",
       "      <th>userId</th>\n",
       "      <th>score</th>\n",
       "      <th>timestamp</th>\n",
       "      <th>id</th>\n",
       "    </tr>\n",
       "  </thead>\n",
       "  <tbody>\n",
       "    <tr>\n",
       "      <th>0</th>\n",
       "      <td>1</td>\n",
       "      <td>1.0</td>\n",
       "      <td>2015-03-09</td>\n",
       "      <td>as680</td>\n",
       "    </tr>\n",
       "    <tr>\n",
       "      <th>1</th>\n",
       "      <td>1</td>\n",
       "      <td>4.5</td>\n",
       "      <td>2015-03-09</td>\n",
       "      <td>ns2186</td>\n",
       "    </tr>\n",
       "    <tr>\n",
       "      <th>2</th>\n",
       "      <td>1</td>\n",
       "      <td>5.0</td>\n",
       "      <td>2015-03-09</td>\n",
       "      <td>hs2381</td>\n",
       "    </tr>\n",
       "    <tr>\n",
       "      <th>3</th>\n",
       "      <td>1</td>\n",
       "      <td>5.0</td>\n",
       "      <td>2015-03-09</td>\n",
       "      <td>ns3663</td>\n",
       "    </tr>\n",
       "    <tr>\n",
       "      <th>4</th>\n",
       "      <td>1</td>\n",
       "      <td>5.0</td>\n",
       "      <td>2015-03-09</td>\n",
       "      <td>as9500</td>\n",
       "    </tr>\n",
       "  </tbody>\n",
       "</table>\n",
       "</div>"
      ],
      "text/plain": [
       "   userId  score  timestamp      id\n",
       "0       1    1.0 2015-03-09   as680\n",
       "1       1    4.5 2015-03-09  ns2186\n",
       "2       1    5.0 2015-03-09  hs2381\n",
       "3       1    5.0 2015-03-09  ns3663\n",
       "4       1    5.0 2015-03-09  as9500"
      ]
     },
     "execution_count": 103,
     "metadata": {},
     "output_type": "execute_result"
    }
   ],
   "source": [
    "df_score_total.head()"
   ]
  },
  {
   "cell_type": "code",
   "execution_count": 104,
   "metadata": {},
   "outputs": [
    {
     "data": {
      "text/plain": [
       "10466"
      ]
     },
     "execution_count": 104,
     "metadata": {},
     "output_type": "execute_result"
    }
   ],
   "source": [
    "df_score_total.duplicated().sum()"
   ]
  },
  {
   "cell_type": "code",
   "execution_count": 6,
   "metadata": {},
   "outputs": [],
   "source": [
    "#Elimino valores duplicados\n",
    "df_score_total.drop_duplicates(inplace=True)"
   ]
  },
  {
   "cell_type": "code",
   "execution_count": 7,
   "metadata": {},
   "outputs": [],
   "source": [
    "#Elimino columna 'timestamp'\n",
    "df_score_id_user =df_score_total.drop(['timestamp'], axis=1)"
   ]
  },
  {
   "cell_type": "code",
   "execution_count": 8,
   "metadata": {},
   "outputs": [
    {
     "data": {
      "text/html": [
       "<div>\n",
       "<style scoped>\n",
       "    .dataframe tbody tr th:only-of-type {\n",
       "        vertical-align: middle;\n",
       "    }\n",
       "\n",
       "    .dataframe tbody tr th {\n",
       "        vertical-align: top;\n",
       "    }\n",
       "\n",
       "    .dataframe thead th {\n",
       "        text-align: right;\n",
       "    }\n",
       "</style>\n",
       "<table border=\"1\" class=\"dataframe\">\n",
       "  <thead>\n",
       "    <tr style=\"text-align: right;\">\n",
       "      <th></th>\n",
       "      <th>userId</th>\n",
       "      <th>score</th>\n",
       "      <th>id</th>\n",
       "    </tr>\n",
       "  </thead>\n",
       "  <tbody>\n",
       "    <tr>\n",
       "      <th>0</th>\n",
       "      <td>1</td>\n",
       "      <td>1.0</td>\n",
       "      <td>as680</td>\n",
       "    </tr>\n",
       "    <tr>\n",
       "      <th>1</th>\n",
       "      <td>1</td>\n",
       "      <td>4.5</td>\n",
       "      <td>ns2186</td>\n",
       "    </tr>\n",
       "    <tr>\n",
       "      <th>2</th>\n",
       "      <td>1</td>\n",
       "      <td>5.0</td>\n",
       "      <td>hs2381</td>\n",
       "    </tr>\n",
       "    <tr>\n",
       "      <th>3</th>\n",
       "      <td>1</td>\n",
       "      <td>5.0</td>\n",
       "      <td>ns3663</td>\n",
       "    </tr>\n",
       "    <tr>\n",
       "      <th>4</th>\n",
       "      <td>1</td>\n",
       "      <td>5.0</td>\n",
       "      <td>as9500</td>\n",
       "    </tr>\n",
       "  </tbody>\n",
       "</table>\n",
       "</div>"
      ],
      "text/plain": [
       "   userId  score      id\n",
       "0       1    1.0   as680\n",
       "1       1    4.5  ns2186\n",
       "2       1    5.0  hs2381\n",
       "3       1    5.0  ns3663\n",
       "4       1    5.0  as9500"
      ]
     },
     "execution_count": 8,
     "metadata": {},
     "output_type": "execute_result"
    }
   ],
   "source": [
    "df_score_id_user.head()"
   ]
  },
  {
   "cell_type": "code",
   "execution_count": 9,
   "metadata": {},
   "outputs": [
    {
     "name": "stdout",
     "output_type": "stream",
     "text": [
      "Existen 11013823 filas y 3 columnas\n"
     ]
    }
   ],
   "source": [
    "print(f\"Existen {df_score_id_user.shape[0]} filas y {df_score_id_user.shape[1]} columnas\") \n"
   ]
  },
  {
   "cell_type": "code",
   "execution_count": 10,
   "metadata": {},
   "outputs": [
    {
     "name": "stdout",
     "output_type": "stream",
     "text": [
      "<class 'pandas.core.frame.DataFrame'>\n",
      "Int64Index: 11013823 entries, 0 to 11024288\n",
      "Data columns (total 3 columns):\n",
      " #   Column  Dtype  \n",
      "---  ------  -----  \n",
      " 0   userId  int64  \n",
      " 1   score   float64\n",
      " 2   id      object \n",
      "dtypes: float64(1), int64(1), object(1)\n",
      "memory usage: 336.1+ MB\n"
     ]
    }
   ],
   "source": [
    "df_score_id_user.info()"
   ]
  },
  {
   "cell_type": "code",
   "execution_count": 14,
   "metadata": {},
   "outputs": [
    {
     "name": "stdout",
     "output_type": "stream",
     "text": [
      "Dataset shape: (11013823, 3)\n",
      "-Dataset examples-\n",
      "          userId  score      id\n",
      "0              1    1.0   as680\n",
      "20011        231    3.0   hs584\n",
      "40026        432    3.0  ns4071\n",
      "60043        625    5.0  as2039\n",
      "80056        825    3.5  ns5828\n",
      "...          ...    ...     ...\n",
      "10930366  123462    4.0  ns5945\n",
      "10950383  123662    4.5  as8615\n",
      "10970396  123880    5.0  as5921\n",
      "10990436  124016    4.5  ns1826\n",
      "11010455  124198    3.0   ns198\n",
      "\n",
      "[551 rows x 3 columns]\n"
     ]
    }
   ],
   "source": [
    "print('Dataset shape: {}'.format(df_score_id_user.shape))\n",
    "print('-Dataset examples-')\n",
    "print(df_score_id_user.iloc[::20000, :])"
   ]
  },
  {
   "cell_type": "code",
   "execution_count": 15,
   "metadata": {},
   "outputs": [
    {
     "name": "stdout",
     "output_type": "stream",
     "text": [
      "Valor promedio = 3.5334505557243836\n",
      "Valor maximo = 5.0\n",
      "Valor minimo = 0.5\n"
     ]
    }
   ],
   "source": [
    "# Evaluo valores: max, min y promedio de 'score'\n",
    "print('Valor promedio =',df_score_id_user.score.mean())\n",
    "print('Valor maximo =',df_score_id_user.score.max())\n",
    "print('Valor minimo =',df_score_id_user.score.min())"
   ]
  },
  {
   "cell_type": "code",
   "execution_count": 16,
   "metadata": {},
   "outputs": [
    {
     "name": "stdout",
     "output_type": "stream",
     "text": [
      "115077  usuarios\n",
      "10  scores\n"
     ]
    }
   ],
   "source": [
    "# Usuarios y scores únicos:\n",
    "n_users = df_score_id_user.userId.unique().shape[0]\n",
    "n_scores = df_score_id_user.score.unique().shape[0]\n",
    "print (str(n_users) + '  usuarios')\n",
    "print (str(n_scores) + '  scores')"
   ]
  },
  {
   "cell_type": "code",
   "execution_count": 12,
   "metadata": {},
   "outputs": [
    {
     "data": {
      "text/html": [
       "<div>\n",
       "<style scoped>\n",
       "    .dataframe tbody tr th:only-of-type {\n",
       "        vertical-align: middle;\n",
       "    }\n",
       "\n",
       "    .dataframe tbody tr th {\n",
       "        vertical-align: top;\n",
       "    }\n",
       "\n",
       "    .dataframe thead th {\n",
       "        text-align: right;\n",
       "    }\n",
       "</style>\n",
       "<table border=\"1\" class=\"dataframe\">\n",
       "  <thead>\n",
       "    <tr style=\"text-align: right;\">\n",
       "      <th></th>\n",
       "      <th>score</th>\n",
       "      <th>id</th>\n",
       "    </tr>\n",
       "    <tr>\n",
       "      <th>userId</th>\n",
       "      <th></th>\n",
       "      <th></th>\n",
       "    </tr>\n",
       "  </thead>\n",
       "  <tbody>\n",
       "    <tr>\n",
       "      <th>1</th>\n",
       "      <td>27</td>\n",
       "      <td>27</td>\n",
       "    </tr>\n",
       "    <tr>\n",
       "      <th>2</th>\n",
       "      <td>22</td>\n",
       "      <td>22</td>\n",
       "    </tr>\n",
       "    <tr>\n",
       "      <th>3</th>\n",
       "      <td>10</td>\n",
       "      <td>10</td>\n",
       "    </tr>\n",
       "    <tr>\n",
       "      <th>4</th>\n",
       "      <td>62</td>\n",
       "      <td>62</td>\n",
       "    </tr>\n",
       "    <tr>\n",
       "      <th>5</th>\n",
       "      <td>26</td>\n",
       "      <td>26</td>\n",
       "    </tr>\n",
       "  </tbody>\n",
       "</table>\n",
       "</div>"
      ],
      "text/plain": [
       "        score  id\n",
       "userId           \n",
       "1          27  27\n",
       "2          22  22\n",
       "3          10  10\n",
       "4          62  62\n",
       "5          26  26"
      ]
     },
     "execution_count": 12,
     "metadata": {},
     "output_type": "execute_result"
    }
   ],
   "source": [
    "# Número de veces que un usuario calificó películas\n",
    "df_by_users = df_score_id_user.groupby(['userId']).count()\n",
    "df_by_users.head()"
   ]
  },
  {
   "cell_type": "code",
   "execution_count": 56,
   "metadata": {},
   "outputs": [
    {
     "data": {
      "image/png": "[encoded data removed]",
      "text/plain": [
       "<Figure size 432x288 with 1 Axes>"
      ]
     },
     "metadata": {
      "needs_background": "light"
     },
     "output_type": "display_data"
    }
   ],
   "source": [
    "plt.hist(df_by_users.score, log= True)\n",
    "plt.title('Calificaciones por usuario')\n",
    "plt.show()"
   ]
  },
  {
   "cell_type": "code",
   "execution_count": 18,
   "metadata": {},
   "outputs": [
    {
     "data": {
      "text/plain": [
       "score\n",
       "0.5     163993\n",
       "1.0     350378\n",
       "1.5     167371\n",
       "2.0     739522\n",
       "2.5     530228\n",
       "3.0    2231080\n",
       "3.5    1328630\n",
       "4.0    2968261\n",
       "4.5     919070\n",
       "5.0    1615290\n",
       "Name: userId, dtype: int64"
      ]
     },
     "execution_count": 18,
     "metadata": {},
     "output_type": "execute_result"
    }
   ],
   "source": [
    "#Frecuencia de usuarios por voto\n",
    "df_score_id_user.groupby([\"score\"])[\"userId\"].count()"
   ]
  },
  {
   "cell_type": "code",
   "execution_count": 24,
   "metadata": {},
   "outputs": [
    {
     "data": {
      "image/png": "[encoded data removed]",
      "text/plain": [
       "<Figure size 432x288 with 1 Axes>"
      ]
     },
     "metadata": {
      "needs_background": "light"
     },
     "output_type": "display_data"
    }
   ],
   "source": [
    "# Observo la distribución de las calificaciones\n",
    "df_score_id_user['score'].hist()\n",
    "plt.title('Distribución de calificaciones')\n",
    "plt.show()"
   ]
  },
  {
   "cell_type": "code",
   "execution_count": 25,
   "metadata": {},
   "outputs": [
    {
     "data": {
      "text/html": [
       "<div>\n",
       "<style scoped>\n",
       "    .dataframe tbody tr th:only-of-type {\n",
       "        vertical-align: middle;\n",
       "    }\n",
       "\n",
       "    .dataframe tbody tr th {\n",
       "        vertical-align: top;\n",
       "    }\n",
       "\n",
       "    .dataframe thead th {\n",
       "        text-align: right;\n",
       "    }\n",
       "</style>\n",
       "<table border=\"1\" class=\"dataframe\">\n",
       "  <thead>\n",
       "    <tr style=\"text-align: right;\">\n",
       "      <th></th>\n",
       "      <th>userId</th>\n",
       "      <th>score</th>\n",
       "    </tr>\n",
       "    <tr>\n",
       "      <th>id</th>\n",
       "      <th></th>\n",
       "      <th></th>\n",
       "    </tr>\n",
       "  </thead>\n",
       "  <tbody>\n",
       "    <tr>\n",
       "      <th>as1</th>\n",
       "      <td>502</td>\n",
       "      <td>502</td>\n",
       "    </tr>\n",
       "    <tr>\n",
       "      <th>as10</th>\n",
       "      <td>512</td>\n",
       "      <td>512</td>\n",
       "    </tr>\n",
       "    <tr>\n",
       "      <th>as100</th>\n",
       "      <td>429</td>\n",
       "      <td>429</td>\n",
       "    </tr>\n",
       "    <tr>\n",
       "      <th>as1000</th>\n",
       "      <td>483</td>\n",
       "      <td>483</td>\n",
       "    </tr>\n",
       "    <tr>\n",
       "      <th>as1001</th>\n",
       "      <td>469</td>\n",
       "      <td>469</td>\n",
       "    </tr>\n",
       "    <tr>\n",
       "      <th>as1002</th>\n",
       "      <td>461</td>\n",
       "      <td>461</td>\n",
       "    </tr>\n",
       "    <tr>\n",
       "      <th>as1003</th>\n",
       "      <td>458</td>\n",
       "      <td>458</td>\n",
       "    </tr>\n",
       "    <tr>\n",
       "      <th>as1004</th>\n",
       "      <td>484</td>\n",
       "      <td>484</td>\n",
       "    </tr>\n",
       "    <tr>\n",
       "      <th>as1005</th>\n",
       "      <td>473</td>\n",
       "      <td>473</td>\n",
       "    </tr>\n",
       "    <tr>\n",
       "      <th>as1006</th>\n",
       "      <td>482</td>\n",
       "      <td>482</td>\n",
       "    </tr>\n",
       "  </tbody>\n",
       "</table>\n",
       "</div>"
      ],
      "text/plain": [
       "        userId  score\n",
       "id                   \n",
       "as1        502    502\n",
       "as10       512    512\n",
       "as100      429    429\n",
       "as1000     483    483\n",
       "as1001     469    469\n",
       "as1002     461    461\n",
       "as1003     458    458\n",
       "as1004     484    484\n",
       "as1005     473    473\n",
       "as1006     482    482"
      ]
     },
     "execution_count": 25,
     "metadata": {},
     "output_type": "execute_result"
    }
   ],
   "source": [
    "#Veo cuál es la película que más calificaciones tiene\n",
    "df_by_movies = df_score_id_user.groupby(['id']).count()\n",
    "df_by_movies.head(10)"
   ]
  },
  {
   "cell_type": "code",
   "execution_count": 26,
   "metadata": {},
   "outputs": [
    {
     "name": "stdout",
     "output_type": "stream",
     "text": [
      "as4197\n"
     ]
    }
   ],
   "source": [
    "idx_max = df_by_movies['userId'].idxmax()\n",
    "print(idx_max)"
   ]
  },
  {
   "cell_type": "code",
   "execution_count": 27,
   "metadata": {},
   "outputs": [
    {
     "data": {
      "text/html": [
       "<div>\n",
       "<style scoped>\n",
       "    .dataframe tbody tr th:only-of-type {\n",
       "        vertical-align: middle;\n",
       "    }\n",
       "\n",
       "    .dataframe tbody tr th {\n",
       "        vertical-align: top;\n",
       "    }\n",
       "\n",
       "    .dataframe thead th {\n",
       "        text-align: right;\n",
       "    }\n",
       "</style>\n",
       "<table border=\"1\" class=\"dataframe\">\n",
       "  <thead>\n",
       "    <tr style=\"text-align: right;\">\n",
       "      <th></th>\n",
       "      <th>id</th>\n",
       "      <th>title</th>\n",
       "    </tr>\n",
       "  </thead>\n",
       "  <tbody>\n",
       "    <tr>\n",
       "      <th>0</th>\n",
       "      <td>as1</td>\n",
       "      <td>the grand seduction</td>\n",
       "    </tr>\n",
       "    <tr>\n",
       "      <th>1</th>\n",
       "      <td>as2</td>\n",
       "      <td>take care good night</td>\n",
       "    </tr>\n",
       "    <tr>\n",
       "      <th>2</th>\n",
       "      <td>as3</td>\n",
       "      <td>secrets of deception</td>\n",
       "    </tr>\n",
       "    <tr>\n",
       "      <th>3</th>\n",
       "      <td>as4</td>\n",
       "      <td>pink: staying true</td>\n",
       "    </tr>\n",
       "    <tr>\n",
       "      <th>4</th>\n",
       "      <td>as5</td>\n",
       "      <td>monster maker</td>\n",
       "    </tr>\n",
       "    <tr>\n",
       "      <th>...</th>\n",
       "      <td>...</td>\n",
       "      <td>...</td>\n",
       "    </tr>\n",
       "    <tr>\n",
       "      <th>22993</th>\n",
       "      <td>ns8803</td>\n",
       "      <td>zodiac</td>\n",
       "    </tr>\n",
       "    <tr>\n",
       "      <th>22994</th>\n",
       "      <td>ns8804</td>\n",
       "      <td>zombie dumb</td>\n",
       "    </tr>\n",
       "    <tr>\n",
       "      <th>22995</th>\n",
       "      <td>ns8805</td>\n",
       "      <td>zombieland</td>\n",
       "    </tr>\n",
       "    <tr>\n",
       "      <th>22996</th>\n",
       "      <td>ns8806</td>\n",
       "      <td>zoom</td>\n",
       "    </tr>\n",
       "    <tr>\n",
       "      <th>22997</th>\n",
       "      <td>ns8807</td>\n",
       "      <td>zubaan</td>\n",
       "    </tr>\n",
       "  </tbody>\n",
       "</table>\n",
       "<p>22998 rows × 2 columns</p>\n",
       "</div>"
      ],
      "text/plain": [
       "           id                 title\n",
       "0         as1   the grand seduction\n",
       "1         as2  take care good night\n",
       "2         as3  secrets of deception\n",
       "3         as4    pink: staying true\n",
       "4         as5         monster maker\n",
       "...       ...                   ...\n",
       "22993  ns8803                zodiac\n",
       "22994  ns8804           zombie dumb\n",
       "22995  ns8805            zombieland\n",
       "22996  ns8806                  zoom\n",
       "22997  ns8807                zubaan\n",
       "\n",
       "[22998 rows x 2 columns]"
      ]
     },
     "execution_count": 27,
     "metadata": {},
     "output_type": "execute_result"
    }
   ],
   "source": [
    "df_title = pd.read_csv(url_1).loc[:,('id','title')]\n",
    "df_title"
   ]
  },
  {
   "attachments": {},
   "cell_type": "markdown",
   "metadata": {},
   "source": [
    "**Peliculas por popularidad**"
   ]
  },
  {
   "cell_type": "code",
   "execution_count": 28,
   "metadata": {},
   "outputs": [
    {
     "data": {
      "text/html": [
       "<div>\n",
       "<style scoped>\n",
       "    .dataframe tbody tr th:only-of-type {\n",
       "        vertical-align: middle;\n",
       "    }\n",
       "\n",
       "    .dataframe tbody tr th {\n",
       "        vertical-align: top;\n",
       "    }\n",
       "\n",
       "    .dataframe thead th {\n",
       "        text-align: right;\n",
       "    }\n",
       "</style>\n",
       "<table border=\"1\" class=\"dataframe\">\n",
       "  <thead>\n",
       "    <tr style=\"text-align: right;\">\n",
       "      <th></th>\n",
       "      <th>vistos</th>\n",
       "    </tr>\n",
       "    <tr>\n",
       "      <th>id</th>\n",
       "      <th></th>\n",
       "    </tr>\n",
       "  </thead>\n",
       "  <tbody>\n",
       "    <tr>\n",
       "      <th>as4197</th>\n",
       "      <td>575</td>\n",
       "    </tr>\n",
       "    <tr>\n",
       "      <th>as9065</th>\n",
       "      <td>560</td>\n",
       "    </tr>\n",
       "    <tr>\n",
       "      <th>ns7279</th>\n",
       "      <td>558</td>\n",
       "    </tr>\n",
       "    <tr>\n",
       "      <th>as848</th>\n",
       "      <td>557</td>\n",
       "    </tr>\n",
       "    <tr>\n",
       "      <th>hs2360</th>\n",
       "      <td>556</td>\n",
       "    </tr>\n",
       "    <tr>\n",
       "      <th>as6998</th>\n",
       "      <td>555</td>\n",
       "    </tr>\n",
       "    <tr>\n",
       "      <th>as4889</th>\n",
       "      <td>554</td>\n",
       "    </tr>\n",
       "    <tr>\n",
       "      <th>as9469</th>\n",
       "      <td>554</td>\n",
       "    </tr>\n",
       "    <tr>\n",
       "      <th>hs582</th>\n",
       "      <td>554</td>\n",
       "    </tr>\n",
       "    <tr>\n",
       "      <th>ns5992</th>\n",
       "      <td>552</td>\n",
       "    </tr>\n",
       "  </tbody>\n",
       "</table>\n",
       "</div>"
      ],
      "text/plain": [
       "        vistos\n",
       "id            \n",
       "as4197     575\n",
       "as9065     560\n",
       "ns7279     558\n",
       "as848      557\n",
       "hs2360     556\n",
       "as6998     555\n",
       "as4889     554\n",
       "as9469     554\n",
       "hs582      554\n",
       "ns5992     552"
      ]
     },
     "execution_count": 28,
     "metadata": {},
     "output_type": "execute_result"
    }
   ],
   "source": [
    "df_by_movies = df_score_id_user.groupby(['id']).count()\n",
    "df_by_movies.sort_values('userId', ascending = False, inplace = True)\n",
    "df_by_movies['vistos'] = df_by_movies['userId']\n",
    "df_by_movies.drop(columns = ['userId','score'], inplace = True)\n",
    "df_by_movies.head(10)"
   ]
  },
  {
   "cell_type": "code",
   "execution_count": 29,
   "metadata": {},
   "outputs": [
    {
     "data": {
      "text/html": [
       "<div>\n",
       "<style scoped>\n",
       "    .dataframe tbody tr th:only-of-type {\n",
       "        vertical-align: middle;\n",
       "    }\n",
       "\n",
       "    .dataframe tbody tr th {\n",
       "        vertical-align: top;\n",
       "    }\n",
       "\n",
       "    .dataframe thead th {\n",
       "        text-align: right;\n",
       "    }\n",
       "</style>\n",
       "<table border=\"1\" class=\"dataframe\">\n",
       "  <thead>\n",
       "    <tr style=\"text-align: right;\">\n",
       "      <th></th>\n",
       "      <th>id</th>\n",
       "      <th>vistos</th>\n",
       "      <th>title</th>\n",
       "    </tr>\n",
       "  </thead>\n",
       "  <tbody>\n",
       "    <tr>\n",
       "      <th>0</th>\n",
       "      <td>as4197</td>\n",
       "      <td>575</td>\n",
       "      <td>from other worlds</td>\n",
       "    </tr>\n",
       "    <tr>\n",
       "      <th>1</th>\n",
       "      <td>as9065</td>\n",
       "      <td>560</td>\n",
       "      <td>the organization</td>\n",
       "    </tr>\n",
       "    <tr>\n",
       "      <th>2</th>\n",
       "      <td>ns7279</td>\n",
       "      <td>558</td>\n",
       "      <td>leapfrog: sing-along, read-along</td>\n",
       "    </tr>\n",
       "    <tr>\n",
       "      <th>3</th>\n",
       "      <td>as848</td>\n",
       "      <td>557</td>\n",
       "      <td>superbook</td>\n",
       "    </tr>\n",
       "    <tr>\n",
       "      <th>4</th>\n",
       "      <td>hs2360</td>\n",
       "      <td>556</td>\n",
       "      <td>dietland</td>\n",
       "    </tr>\n",
       "    <tr>\n",
       "      <th>...</th>\n",
       "      <td>...</td>\n",
       "      <td>...</td>\n",
       "      <td>...</td>\n",
       "    </tr>\n",
       "    <tr>\n",
       "      <th>22993</th>\n",
       "      <td>ds782</td>\n",
       "      <td>404</td>\n",
       "      <td>cars toon: hiccups</td>\n",
       "    </tr>\n",
       "    <tr>\n",
       "      <th>22994</th>\n",
       "      <td>ns6535</td>\n",
       "      <td>402</td>\n",
       "      <td>cop and a half: new recruit</td>\n",
       "    </tr>\n",
       "    <tr>\n",
       "      <th>22995</th>\n",
       "      <td>hs1711</td>\n",
       "      <td>401</td>\n",
       "      <td>i am alone</td>\n",
       "    </tr>\n",
       "    <tr>\n",
       "      <th>22996</th>\n",
       "      <td>ns2144</td>\n",
       "      <td>399</td>\n",
       "      <td>rob schneider: asian momma, mexican kids</td>\n",
       "    </tr>\n",
       "    <tr>\n",
       "      <th>22997</th>\n",
       "      <td>as4940</td>\n",
       "      <td>396</td>\n",
       "      <td>mitzi (nbc 1968)</td>\n",
       "    </tr>\n",
       "  </tbody>\n",
       "</table>\n",
       "<p>22998 rows × 3 columns</p>\n",
       "</div>"
      ],
      "text/plain": [
       "           id  vistos                                     title\n",
       "0      as4197     575                         from other worlds\n",
       "1      as9065     560                          the organization\n",
       "2      ns7279     558          leapfrog: sing-along, read-along\n",
       "3       as848     557                                 superbook\n",
       "4      hs2360     556                                  dietland\n",
       "...       ...     ...                                       ...\n",
       "22993   ds782     404                        cars toon: hiccups\n",
       "22994  ns6535     402               cop and a half: new recruit\n",
       "22995  hs1711     401                                i am alone\n",
       "22996  ns2144     399  rob schneider: asian momma, mexican kids\n",
       "22997  as4940     396                          mitzi (nbc 1968)\n",
       "\n",
       "[22998 rows x 3 columns]"
      ]
     },
     "execution_count": 29,
     "metadata": {},
     "output_type": "execute_result"
    }
   ],
   "source": [
    "# Visualizo la película que tiene más vista\n",
    "pd.merge(df_by_movies,df_title,how='inner',on='id')"
   ]
  },
  {
   "cell_type": "code",
   "execution_count": 30,
   "metadata": {},
   "outputs": [
    {
     "name": "stdout",
     "output_type": "stream",
     "text": [
      "Menor número de películas vistas : 396\n",
      "Mayor número de películas vistas : 575\n"
     ]
    }
   ],
   "source": [
    "print('Menor número de películas vistas :', df_by_movies.vistos.min())\n",
    "print('Mayor número de películas vistas :', df_by_movies.vistos.max())"
   ]
  },
  {
   "cell_type": "code",
   "execution_count": 31,
   "metadata": {},
   "outputs": [
    {
     "data": {
      "image/png": "[encoded data removed]",
      "text/plain": [
       "<Figure size 576x288 with 1 Axes>"
      ]
     },
     "metadata": {
      "needs_background": "light"
     },
     "output_type": "display_data"
    }
   ],
   "source": [
    "plt.figure(figsize = (8,4))\n",
    "\n",
    "df_by_movies.vistos[df_by_movies.vistos<500].hist(log = True, bins = 20)\n",
    "plt.title('Distribución de la cantidad de vistas')\n",
    "\n",
    "plt.show()"
   ]
  },
  {
   "attachments": {},
   "cell_type": "markdown",
   "metadata": {},
   "source": [
    "**En esta etapa, lo que haremos será filtrar de nuestro dataset a aquellas películas con pocas calificaciones. Para ello, establecemos un umbral.**"
   ]
  },
  {
   "cell_type": "code",
   "execution_count": 32,
   "metadata": {},
   "outputs": [],
   "source": [
    "umbral = 450\n",
    "mascara_pocos_vistos = df_by_movies.vistos<umbral"
   ]
  },
  {
   "cell_type": "code",
   "execution_count": 33,
   "metadata": {},
   "outputs": [
    {
     "name": "stdout",
     "output_type": "stream",
     "text": [
      "2058 ['ns4526' 'as5382' 'ds1318' ... 'hs1711' 'ns2144' 'as4940']\n"
     ]
    }
   ],
   "source": [
    "peliculas_pocos_vistos = mascara_pocos_vistos[mascara_pocos_vistos].index.values\n",
    "print(len(peliculas_pocos_vistos), peliculas_pocos_vistos)"
   ]
  },
  {
   "cell_type": "code",
   "execution_count": 34,
   "metadata": {},
   "outputs": [],
   "source": [
    "mascara_descartables = df_score_id_user.id.isin(peliculas_pocos_vistos)"
   ]
  },
  {
   "cell_type": "code",
   "execution_count": 35,
   "metadata": {},
   "outputs": [
    {
     "name": "stdout",
     "output_type": "stream",
     "text": [
      "(11013823, 3)\n",
      "(11013823, 3)\n"
     ]
    }
   ],
   "source": [
    "# Obsevo cómo cambia la cantidad de registros a partir del filtrado\n",
    "print(df_score_id_user.shape)\n",
    "df_score_id_user_umbral = df_score_id_user[~mascara_descartables]\n",
    "print(df_score_id_user.shape)"
   ]
  },
  {
   "cell_type": "code",
   "execution_count": 36,
   "metadata": {},
   "outputs": [
    {
     "data": {
      "text/html": [
       "<div>\n",
       "<style scoped>\n",
       "    .dataframe tbody tr th:only-of-type {\n",
       "        vertical-align: middle;\n",
       "    }\n",
       "\n",
       "    .dataframe tbody tr th {\n",
       "        vertical-align: top;\n",
       "    }\n",
       "\n",
       "    .dataframe thead th {\n",
       "        text-align: right;\n",
       "    }\n",
       "</style>\n",
       "<table border=\"1\" class=\"dataframe\">\n",
       "  <thead>\n",
       "    <tr style=\"text-align: right;\">\n",
       "      <th></th>\n",
       "      <th>userId</th>\n",
       "      <th>score</th>\n",
       "      <th>id</th>\n",
       "    </tr>\n",
       "  </thead>\n",
       "  <tbody>\n",
       "    <tr>\n",
       "      <th>0</th>\n",
       "      <td>1</td>\n",
       "      <td>1.0</td>\n",
       "      <td>as680</td>\n",
       "    </tr>\n",
       "    <tr>\n",
       "      <th>1</th>\n",
       "      <td>1</td>\n",
       "      <td>4.5</td>\n",
       "      <td>ns2186</td>\n",
       "    </tr>\n",
       "    <tr>\n",
       "      <th>2</th>\n",
       "      <td>1</td>\n",
       "      <td>5.0</td>\n",
       "      <td>hs2381</td>\n",
       "    </tr>\n",
       "    <tr>\n",
       "      <th>3</th>\n",
       "      <td>1</td>\n",
       "      <td>5.0</td>\n",
       "      <td>ns3663</td>\n",
       "    </tr>\n",
       "    <tr>\n",
       "      <th>4</th>\n",
       "      <td>1</td>\n",
       "      <td>5.0</td>\n",
       "      <td>as9500</td>\n",
       "    </tr>\n",
       "  </tbody>\n",
       "</table>\n",
       "</div>"
      ],
      "text/plain": [
       "   userId  score      id\n",
       "0       1    1.0   as680\n",
       "1       1    4.5  ns2186\n",
       "2       1    5.0  hs2381\n",
       "3       1    5.0  ns3663\n",
       "4       1    5.0  as9500"
      ]
     },
     "execution_count": 36,
     "metadata": {},
     "output_type": "execute_result"
    }
   ],
   "source": [
    "df_score_id_user.head()"
   ]
  },
  {
   "cell_type": "code",
   "execution_count": 38,
   "metadata": {},
   "outputs": [
    {
     "data": {
      "text/html": [
       "<div>\n",
       "<style scoped>\n",
       "    .dataframe tbody tr th:only-of-type {\n",
       "        vertical-align: middle;\n",
       "    }\n",
       "\n",
       "    .dataframe tbody tr th {\n",
       "        vertical-align: top;\n",
       "    }\n",
       "\n",
       "    .dataframe thead th {\n",
       "        text-align: right;\n",
       "    }\n",
       "</style>\n",
       "<table border=\"1\" class=\"dataframe\">\n",
       "  <thead>\n",
       "    <tr style=\"text-align: right;\">\n",
       "      <th></th>\n",
       "      <th>id</th>\n",
       "      <th>userId</th>\n",
       "      <th>score</th>\n",
       "    </tr>\n",
       "  </thead>\n",
       "  <tbody>\n",
       "    <tr>\n",
       "      <th>0</th>\n",
       "      <td>as680</td>\n",
       "      <td>1</td>\n",
       "      <td>1.0</td>\n",
       "    </tr>\n",
       "    <tr>\n",
       "      <th>1</th>\n",
       "      <td>ns2186</td>\n",
       "      <td>1</td>\n",
       "      <td>4.5</td>\n",
       "    </tr>\n",
       "    <tr>\n",
       "      <th>2</th>\n",
       "      <td>hs2381</td>\n",
       "      <td>1</td>\n",
       "      <td>5.0</td>\n",
       "    </tr>\n",
       "    <tr>\n",
       "      <th>3</th>\n",
       "      <td>ns3663</td>\n",
       "      <td>1</td>\n",
       "      <td>5.0</td>\n",
       "    </tr>\n",
       "    <tr>\n",
       "      <th>4</th>\n",
       "      <td>as9500</td>\n",
       "      <td>1</td>\n",
       "      <td>5.0</td>\n",
       "    </tr>\n",
       "    <tr>\n",
       "      <th>...</th>\n",
       "      <td>...</td>\n",
       "      <td>...</td>\n",
       "      <td>...</td>\n",
       "    </tr>\n",
       "    <tr>\n",
       "      <th>11024284</th>\n",
       "      <td>ns5272</td>\n",
       "      <td>124380</td>\n",
       "      <td>4.5</td>\n",
       "    </tr>\n",
       "    <tr>\n",
       "      <th>11024285</th>\n",
       "      <td>ns5492</td>\n",
       "      <td>124380</td>\n",
       "      <td>2.5</td>\n",
       "    </tr>\n",
       "    <tr>\n",
       "      <th>11024286</th>\n",
       "      <td>hs305</td>\n",
       "      <td>124380</td>\n",
       "      <td>3.5</td>\n",
       "    </tr>\n",
       "    <tr>\n",
       "      <th>11024287</th>\n",
       "      <td>ns7881</td>\n",
       "      <td>124380</td>\n",
       "      <td>4.5</td>\n",
       "    </tr>\n",
       "    <tr>\n",
       "      <th>11024288</th>\n",
       "      <td>as883</td>\n",
       "      <td>124380</td>\n",
       "      <td>1.5</td>\n",
       "    </tr>\n",
       "  </tbody>\n",
       "</table>\n",
       "<p>11013823 rows × 3 columns</p>\n",
       "</div>"
      ],
      "text/plain": [
       "              id  userId  score\n",
       "0          as680       1    1.0\n",
       "1         ns2186       1    4.5\n",
       "2         hs2381       1    5.0\n",
       "3         ns3663       1    5.0\n",
       "4         as9500       1    5.0\n",
       "...          ...     ...    ...\n",
       "11024284  ns5272  124380    4.5\n",
       "11024285  ns5492  124380    2.5\n",
       "11024286   hs305  124380    3.5\n",
       "11024287  ns7881  124380    4.5\n",
       "11024288   as883  124380    1.5\n",
       "\n",
       "[11013823 rows x 3 columns]"
      ]
     },
     "execution_count": 38,
     "metadata": {},
     "output_type": "execute_result"
    }
   ],
   "source": [
    "# Cambio la columna 'id' a la primer posición\n",
    "first_column = df_score_id_user.pop('id')\n",
    "df_score_id_user.insert(0, 'id', first_column)\n",
    "df_score_id_user"
   ]
  },
  {
   "cell_type": "code",
   "execution_count": 39,
   "metadata": {},
   "outputs": [],
   "source": [
    "# Guardo el dataset limpio para el proceso de ML\n",
    "df_score_id_user.to_parquet('df_score_id_user.parquet', index=False)"
   ]
  }
 ],
 "metadata": {
  "kernelspec": {
   "display_name": "Python 3",
   "language": "python",
   "name": "python3"
  },
  "language_info": {
   "codemirror_mode": {
    "name": "ipython",
    "version": 3
   },
   "file_extension": ".py",
   "mimetype": "text/x-python",
   "name": "python",
   "nbconvert_exporter": "python",
   "pygments_lexer": "ipython3",
   "version": "3.10.4"
  },
  "orig_nbformat": 4,
  "vscode": {
   "interpreter": {
    "hash": "8bb75a0417e56ed74b4ba1ade63598b502a6b4cb8034008f37da554d82e17920"
   }
  }
 },
 "nbformat": 4,
 "nbformat_minor": 2
}
