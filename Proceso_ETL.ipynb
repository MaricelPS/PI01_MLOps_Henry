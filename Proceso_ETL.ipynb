{
 "cells": [
  {
   "attachments": {},
   "cell_type": "markdown",
   "metadata": {},
   "source": [
    "### **Proceso de ETL**"
   ]
  },
  {
   "cell_type": "code",
   "execution_count": 1,
   "metadata": {},
   "outputs": [],
   "source": [
    "#Importar las librerias a utilizar\n",
    "import pandas as pd\n",
    "import datetime as dt"
   ]
  },
  {
   "attachments": {},
   "cell_type": "markdown",
   "metadata": {},
   "source": [
    "1) PROCESAMIENTO ETL DE LOS CSV 'PLATAFORMAS'"
   ]
  },
  {
   "cell_type": "code",
   "execution_count": 4,
   "metadata": {},
   "outputs": [],
   "source": [
    "#Almaceno los csv de plataformas en un dataframe de pandas\n",
    "df_amazon = pd.read_csv('./Datasets/amazon_prime_titles.csv', sep= ',')\n",
    "df_disney = pd.read_csv('./Datasets/disney_plus_titles.csv', sep= ',')\n",
    "df_hulu = pd.read_csv('./Datasets/hulu_titles.csv', sep= ',')\n",
    "df_netflix = pd.read_csv('./Datasets/netflix_titles.csv', sep= ',')"
   ]
  },
  {
   "cell_type": "code",
   "execution_count": 5,
   "metadata": {},
   "outputs": [
    {
     "data": {
      "text/html": [
       "<div>\n",
       "<style scoped>\n",
       "    .dataframe tbody tr th:only-of-type {\n",
       "        vertical-align: middle;\n",
       "    }\n",
       "\n",
       "    .dataframe tbody tr th {\n",
       "        vertical-align: top;\n",
       "    }\n",
       "\n",
       "    .dataframe thead th {\n",
       "        text-align: right;\n",
       "    }\n",
       "</style>\n",
       "<table border=\"1\" class=\"dataframe\">\n",
       "  <thead>\n",
       "    <tr style=\"text-align: right;\">\n",
       "      <th></th>\n",
       "      <th>show_id</th>\n",
       "      <th>type</th>\n",
       "      <th>title</th>\n",
       "      <th>director</th>\n",
       "      <th>cast</th>\n",
       "      <th>country</th>\n",
       "      <th>date_added</th>\n",
       "      <th>release_year</th>\n",
       "      <th>rating</th>\n",
       "      <th>duration</th>\n",
       "      <th>listed_in</th>\n",
       "      <th>description</th>\n",
       "    </tr>\n",
       "  </thead>\n",
       "  <tbody>\n",
       "    <tr>\n",
       "      <th>0</th>\n",
       "      <td>s1</td>\n",
       "      <td>Movie</td>\n",
       "      <td>The Grand Seduction</td>\n",
       "      <td>Don McKellar</td>\n",
       "      <td>Brendan Gleeson, Taylor Kitsch, Gordon Pinsent</td>\n",
       "      <td>Canada</td>\n",
       "      <td>March 30, 2021</td>\n",
       "      <td>2014</td>\n",
       "      <td>NaN</td>\n",
       "      <td>113 min</td>\n",
       "      <td>Comedy, Drama</td>\n",
       "      <td>A small fishing village must procure a local d...</td>\n",
       "    </tr>\n",
       "    <tr>\n",
       "      <th>1</th>\n",
       "      <td>s2</td>\n",
       "      <td>Movie</td>\n",
       "      <td>Take Care Good Night</td>\n",
       "      <td>Girish Joshi</td>\n",
       "      <td>Mahesh Manjrekar, Abhay Mahajan, Sachin Khedekar</td>\n",
       "      <td>India</td>\n",
       "      <td>March 30, 2021</td>\n",
       "      <td>2018</td>\n",
       "      <td>13+</td>\n",
       "      <td>110 min</td>\n",
       "      <td>Drama, International</td>\n",
       "      <td>A Metro Family decides to fight a Cyber Crimin...</td>\n",
       "    </tr>\n",
       "    <tr>\n",
       "      <th>2</th>\n",
       "      <td>s3</td>\n",
       "      <td>Movie</td>\n",
       "      <td>Secrets of Deception</td>\n",
       "      <td>Josh Webber</td>\n",
       "      <td>Tom Sizemore, Lorenzo Lamas, Robert LaSardo, R...</td>\n",
       "      <td>United States</td>\n",
       "      <td>March 30, 2021</td>\n",
       "      <td>2017</td>\n",
       "      <td>NaN</td>\n",
       "      <td>74 min</td>\n",
       "      <td>Action, Drama, Suspense</td>\n",
       "      <td>After a man discovers his wife is cheating on ...</td>\n",
       "    </tr>\n",
       "  </tbody>\n",
       "</table>\n",
       "</div>"
      ],
      "text/plain": [
       "  show_id   type                 title      director  \\\n",
       "0      s1  Movie   The Grand Seduction  Don McKellar   \n",
       "1      s2  Movie  Take Care Good Night  Girish Joshi   \n",
       "2      s3  Movie  Secrets of Deception   Josh Webber   \n",
       "\n",
       "                                                cast        country  \\\n",
       "0     Brendan Gleeson, Taylor Kitsch, Gordon Pinsent         Canada   \n",
       "1   Mahesh Manjrekar, Abhay Mahajan, Sachin Khedekar          India   \n",
       "2  Tom Sizemore, Lorenzo Lamas, Robert LaSardo, R...  United States   \n",
       "\n",
       "       date_added  release_year rating duration                listed_in  \\\n",
       "0  March 30, 2021          2014    NaN  113 min            Comedy, Drama   \n",
       "1  March 30, 2021          2018    13+  110 min     Drama, International   \n",
       "2  March 30, 2021          2017    NaN   74 min  Action, Drama, Suspense   \n",
       "\n",
       "                                         description  \n",
       "0  A small fishing village must procure a local d...  \n",
       "1  A Metro Family decides to fight a Cyber Crimin...  \n",
       "2  After a man discovers his wife is cheating on ...  "
      ]
     },
     "execution_count": 5,
     "metadata": {},
     "output_type": "execute_result"
    }
   ],
   "source": [
    "#Inicio el EDA en cada uno de los dataframes\n",
    "df_amazon.head(3)"
   ]
  },
  {
   "cell_type": "code",
   "execution_count": 6,
   "metadata": {},
   "outputs": [
    {
     "data": {
      "text/html": [
       "<div>\n",
       "<style scoped>\n",
       "    .dataframe tbody tr th:only-of-type {\n",
       "        vertical-align: middle;\n",
       "    }\n",
       "\n",
       "    .dataframe tbody tr th {\n",
       "        vertical-align: top;\n",
       "    }\n",
       "\n",
       "    .dataframe thead th {\n",
       "        text-align: right;\n",
       "    }\n",
       "</style>\n",
       "<table border=\"1\" class=\"dataframe\">\n",
       "  <thead>\n",
       "    <tr style=\"text-align: right;\">\n",
       "      <th></th>\n",
       "      <th>show_id</th>\n",
       "      <th>type</th>\n",
       "      <th>title</th>\n",
       "      <th>director</th>\n",
       "      <th>cast</th>\n",
       "      <th>country</th>\n",
       "      <th>date_added</th>\n",
       "      <th>release_year</th>\n",
       "      <th>rating</th>\n",
       "      <th>duration</th>\n",
       "      <th>listed_in</th>\n",
       "      <th>description</th>\n",
       "    </tr>\n",
       "  </thead>\n",
       "  <tbody>\n",
       "    <tr>\n",
       "      <th>0</th>\n",
       "      <td>s1</td>\n",
       "      <td>Movie</td>\n",
       "      <td>Duck the Halls: A Mickey Mouse Christmas Special</td>\n",
       "      <td>Alonso Ramirez Ramos, Dave Wasson</td>\n",
       "      <td>Chris Diamantopoulos, Tony Anselmo, Tress MacN...</td>\n",
       "      <td>NaN</td>\n",
       "      <td>November 26, 2021</td>\n",
       "      <td>2016</td>\n",
       "      <td>TV-G</td>\n",
       "      <td>23 min</td>\n",
       "      <td>Animation, Family</td>\n",
       "      <td>Join Mickey and the gang as they duck the halls!</td>\n",
       "    </tr>\n",
       "    <tr>\n",
       "      <th>1</th>\n",
       "      <td>s2</td>\n",
       "      <td>Movie</td>\n",
       "      <td>Ernest Saves Christmas</td>\n",
       "      <td>John Cherry</td>\n",
       "      <td>Jim Varney, Noelle Parker, Douglas Seale</td>\n",
       "      <td>NaN</td>\n",
       "      <td>November 26, 2021</td>\n",
       "      <td>1988</td>\n",
       "      <td>PG</td>\n",
       "      <td>91 min</td>\n",
       "      <td>Comedy</td>\n",
       "      <td>Santa Claus passes his magic bag to a new St. ...</td>\n",
       "    </tr>\n",
       "    <tr>\n",
       "      <th>2</th>\n",
       "      <td>s3</td>\n",
       "      <td>Movie</td>\n",
       "      <td>Ice Age: A Mammoth Christmas</td>\n",
       "      <td>Karen Disher</td>\n",
       "      <td>Raymond Albert Romano, John Leguizamo, Denis L...</td>\n",
       "      <td>United States</td>\n",
       "      <td>November 26, 2021</td>\n",
       "      <td>2011</td>\n",
       "      <td>TV-G</td>\n",
       "      <td>23 min</td>\n",
       "      <td>Animation, Comedy, Family</td>\n",
       "      <td>Sid the Sloth is on Santa's naughty list.</td>\n",
       "    </tr>\n",
       "  </tbody>\n",
       "</table>\n",
       "</div>"
      ],
      "text/plain": [
       "  show_id   type                                             title  \\\n",
       "0      s1  Movie  Duck the Halls: A Mickey Mouse Christmas Special   \n",
       "1      s2  Movie                            Ernest Saves Christmas   \n",
       "2      s3  Movie                      Ice Age: A Mammoth Christmas   \n",
       "\n",
       "                            director  \\\n",
       "0  Alonso Ramirez Ramos, Dave Wasson   \n",
       "1                        John Cherry   \n",
       "2                       Karen Disher   \n",
       "\n",
       "                                                cast        country  \\\n",
       "0  Chris Diamantopoulos, Tony Anselmo, Tress MacN...            NaN   \n",
       "1           Jim Varney, Noelle Parker, Douglas Seale            NaN   \n",
       "2  Raymond Albert Romano, John Leguizamo, Denis L...  United States   \n",
       "\n",
       "          date_added  release_year rating duration                  listed_in  \\\n",
       "0  November 26, 2021          2016   TV-G   23 min          Animation, Family   \n",
       "1  November 26, 2021          1988     PG   91 min                     Comedy   \n",
       "2  November 26, 2021          2011   TV-G   23 min  Animation, Comedy, Family   \n",
       "\n",
       "                                         description  \n",
       "0   Join Mickey and the gang as they duck the halls!  \n",
       "1  Santa Claus passes his magic bag to a new St. ...  \n",
       "2          Sid the Sloth is on Santa's naughty list.  "
      ]
     },
     "execution_count": 6,
     "metadata": {},
     "output_type": "execute_result"
    }
   ],
   "source": [
    "df_disney.head(3)"
   ]
  },
  {
   "cell_type": "code",
   "execution_count": 7,
   "metadata": {},
   "outputs": [
    {
     "data": {
      "text/html": [
       "<div>\n",
       "<style scoped>\n",
       "    .dataframe tbody tr th:only-of-type {\n",
       "        vertical-align: middle;\n",
       "    }\n",
       "\n",
       "    .dataframe tbody tr th {\n",
       "        vertical-align: top;\n",
       "    }\n",
       "\n",
       "    .dataframe thead th {\n",
       "        text-align: right;\n",
       "    }\n",
       "</style>\n",
       "<table border=\"1\" class=\"dataframe\">\n",
       "  <thead>\n",
       "    <tr style=\"text-align: right;\">\n",
       "      <th></th>\n",
       "      <th>show_id</th>\n",
       "      <th>type</th>\n",
       "      <th>title</th>\n",
       "      <th>director</th>\n",
       "      <th>cast</th>\n",
       "      <th>country</th>\n",
       "      <th>date_added</th>\n",
       "      <th>release_year</th>\n",
       "      <th>rating</th>\n",
       "      <th>duration</th>\n",
       "      <th>listed_in</th>\n",
       "      <th>description</th>\n",
       "    </tr>\n",
       "  </thead>\n",
       "  <tbody>\n",
       "    <tr>\n",
       "      <th>0</th>\n",
       "      <td>s1</td>\n",
       "      <td>Movie</td>\n",
       "      <td>Ricky Velez: Here's Everything</td>\n",
       "      <td>NaN</td>\n",
       "      <td>NaN</td>\n",
       "      <td>NaN</td>\n",
       "      <td>October 24, 2021</td>\n",
       "      <td>2021</td>\n",
       "      <td>TV-MA</td>\n",
       "      <td>NaN</td>\n",
       "      <td>Comedy, Stand Up</td>\n",
       "      <td>​Comedian Ricky Velez bares it all with his ho...</td>\n",
       "    </tr>\n",
       "    <tr>\n",
       "      <th>1</th>\n",
       "      <td>s2</td>\n",
       "      <td>Movie</td>\n",
       "      <td>Silent Night</td>\n",
       "      <td>NaN</td>\n",
       "      <td>NaN</td>\n",
       "      <td>NaN</td>\n",
       "      <td>October 23, 2021</td>\n",
       "      <td>2020</td>\n",
       "      <td>NaN</td>\n",
       "      <td>94 min</td>\n",
       "      <td>Crime, Drama, Thriller</td>\n",
       "      <td>Mark, a low end South London hitman recently r...</td>\n",
       "    </tr>\n",
       "    <tr>\n",
       "      <th>2</th>\n",
       "      <td>s3</td>\n",
       "      <td>Movie</td>\n",
       "      <td>The Marksman</td>\n",
       "      <td>NaN</td>\n",
       "      <td>NaN</td>\n",
       "      <td>NaN</td>\n",
       "      <td>October 23, 2021</td>\n",
       "      <td>2021</td>\n",
       "      <td>PG-13</td>\n",
       "      <td>108 min</td>\n",
       "      <td>Action, Thriller</td>\n",
       "      <td>A hardened Arizona rancher tries to protect an...</td>\n",
       "    </tr>\n",
       "  </tbody>\n",
       "</table>\n",
       "</div>"
      ],
      "text/plain": [
       "  show_id   type                           title director  cast country  \\\n",
       "0      s1  Movie  Ricky Velez: Here's Everything      NaN   NaN     NaN   \n",
       "1      s2  Movie                    Silent Night      NaN   NaN     NaN   \n",
       "2      s3  Movie                    The Marksman      NaN   NaN     NaN   \n",
       "\n",
       "         date_added  release_year rating duration               listed_in  \\\n",
       "0  October 24, 2021          2021  TV-MA      NaN        Comedy, Stand Up   \n",
       "1  October 23, 2021          2020    NaN   94 min  Crime, Drama, Thriller   \n",
       "2  October 23, 2021          2021  PG-13  108 min        Action, Thriller   \n",
       "\n",
       "                                         description  \n",
       "0  ​Comedian Ricky Velez bares it all with his ho...  \n",
       "1  Mark, a low end South London hitman recently r...  \n",
       "2  A hardened Arizona rancher tries to protect an...  "
      ]
     },
     "execution_count": 7,
     "metadata": {},
     "output_type": "execute_result"
    }
   ],
   "source": [
    "df_hulu.head(3)"
   ]
  },
  {
   "cell_type": "code",
   "execution_count": 8,
   "metadata": {},
   "outputs": [
    {
     "data": {
      "text/html": [
       "<div>\n",
       "<style scoped>\n",
       "    .dataframe tbody tr th:only-of-type {\n",
       "        vertical-align: middle;\n",
       "    }\n",
       "\n",
       "    .dataframe tbody tr th {\n",
       "        vertical-align: top;\n",
       "    }\n",
       "\n",
       "    .dataframe thead th {\n",
       "        text-align: right;\n",
       "    }\n",
       "</style>\n",
       "<table border=\"1\" class=\"dataframe\">\n",
       "  <thead>\n",
       "    <tr style=\"text-align: right;\">\n",
       "      <th></th>\n",
       "      <th>show_id</th>\n",
       "      <th>type</th>\n",
       "      <th>title</th>\n",
       "      <th>director</th>\n",
       "      <th>cast</th>\n",
       "      <th>country</th>\n",
       "      <th>date_added</th>\n",
       "      <th>release_year</th>\n",
       "      <th>rating</th>\n",
       "      <th>duration</th>\n",
       "      <th>listed_in</th>\n",
       "      <th>description</th>\n",
       "    </tr>\n",
       "  </thead>\n",
       "  <tbody>\n",
       "    <tr>\n",
       "      <th>0</th>\n",
       "      <td>s1</td>\n",
       "      <td>Movie</td>\n",
       "      <td>Dick Johnson Is Dead</td>\n",
       "      <td>Kirsten Johnson</td>\n",
       "      <td>NaN</td>\n",
       "      <td>United States</td>\n",
       "      <td>September 25, 2021</td>\n",
       "      <td>2020</td>\n",
       "      <td>PG-13</td>\n",
       "      <td>90 min</td>\n",
       "      <td>Documentaries</td>\n",
       "      <td>As her father nears the end of his life, filmm...</td>\n",
       "    </tr>\n",
       "    <tr>\n",
       "      <th>1</th>\n",
       "      <td>s2</td>\n",
       "      <td>TV Show</td>\n",
       "      <td>Blood &amp; Water</td>\n",
       "      <td>NaN</td>\n",
       "      <td>Ama Qamata, Khosi Ngema, Gail Mabalane, Thaban...</td>\n",
       "      <td>South Africa</td>\n",
       "      <td>September 24, 2021</td>\n",
       "      <td>2021</td>\n",
       "      <td>TV-MA</td>\n",
       "      <td>2 Seasons</td>\n",
       "      <td>International TV Shows, TV Dramas, TV Mysteries</td>\n",
       "      <td>After crossing paths at a party, a Cape Town t...</td>\n",
       "    </tr>\n",
       "    <tr>\n",
       "      <th>2</th>\n",
       "      <td>s3</td>\n",
       "      <td>TV Show</td>\n",
       "      <td>Ganglands</td>\n",
       "      <td>Julien Leclercq</td>\n",
       "      <td>Sami Bouajila, Tracy Gotoas, Samuel Jouy, Nabi...</td>\n",
       "      <td>NaN</td>\n",
       "      <td>September 24, 2021</td>\n",
       "      <td>2021</td>\n",
       "      <td>TV-MA</td>\n",
       "      <td>1 Season</td>\n",
       "      <td>Crime TV Shows, International TV Shows, TV Act...</td>\n",
       "      <td>To protect his family from a powerful drug lor...</td>\n",
       "    </tr>\n",
       "  </tbody>\n",
       "</table>\n",
       "</div>"
      ],
      "text/plain": [
       "  show_id     type                 title         director  \\\n",
       "0      s1    Movie  Dick Johnson Is Dead  Kirsten Johnson   \n",
       "1      s2  TV Show         Blood & Water              NaN   \n",
       "2      s3  TV Show             Ganglands  Julien Leclercq   \n",
       "\n",
       "                                                cast        country  \\\n",
       "0                                                NaN  United States   \n",
       "1  Ama Qamata, Khosi Ngema, Gail Mabalane, Thaban...   South Africa   \n",
       "2  Sami Bouajila, Tracy Gotoas, Samuel Jouy, Nabi...            NaN   \n",
       "\n",
       "           date_added  release_year rating   duration  \\\n",
       "0  September 25, 2021          2020  PG-13     90 min   \n",
       "1  September 24, 2021          2021  TV-MA  2 Seasons   \n",
       "2  September 24, 2021          2021  TV-MA   1 Season   \n",
       "\n",
       "                                           listed_in  \\\n",
       "0                                      Documentaries   \n",
       "1    International TV Shows, TV Dramas, TV Mysteries   \n",
       "2  Crime TV Shows, International TV Shows, TV Act...   \n",
       "\n",
       "                                         description  \n",
       "0  As her father nears the end of his life, filmm...  \n",
       "1  After crossing paths at a party, a Cape Town t...  \n",
       "2  To protect his family from a powerful drug lor...  "
      ]
     },
     "execution_count": 8,
     "metadata": {},
     "output_type": "execute_result"
    }
   ],
   "source": [
    "df_netflix.head(3)"
   ]
  },
  {
   "cell_type": "code",
   "execution_count": 9,
   "metadata": {},
   "outputs": [
    {
     "name": "stdout",
     "output_type": "stream",
     "text": [
      "<class 'pandas.core.frame.DataFrame'>\n",
      "RangeIndex: 9668 entries, 0 to 9667\n",
      "Data columns (total 12 columns):\n",
      " #   Column        Non-Null Count  Dtype \n",
      "---  ------        --------------  ----- \n",
      " 0   show_id       9668 non-null   object\n",
      " 1   type          9668 non-null   object\n",
      " 2   title         9668 non-null   object\n",
      " 3   director      7586 non-null   object\n",
      " 4   cast          8435 non-null   object\n",
      " 5   country       672 non-null    object\n",
      " 6   date_added    155 non-null    object\n",
      " 7   release_year  9668 non-null   int64 \n",
      " 8   rating        9331 non-null   object\n",
      " 9   duration      9668 non-null   object\n",
      " 10  listed_in     9668 non-null   object\n",
      " 11  description   9668 non-null   object\n",
      "dtypes: int64(1), object(11)\n",
      "memory usage: 906.5+ KB\n",
      "-----------------------------------\n",
      "show_id            0\n",
      "type               0\n",
      "title              0\n",
      "director        2082\n",
      "cast            1233\n",
      "country         8996\n",
      "date_added      9513\n",
      "release_year       0\n",
      "rating           337\n",
      "duration           0\n",
      "listed_in          0\n",
      "description        0\n",
      "dtype: int64\n",
      "-----------------------------------\n"
     ]
    },
    {
     "data": {
      "text/plain": [
       "0"
      ]
     },
     "execution_count": 9,
     "metadata": {},
     "output_type": "execute_result"
    }
   ],
   "source": [
    "#Veo la información general de cada dataframe cantidad de valores nulos y cantidad de valores duplicados\n",
    "df_amazon.info()\n",
    "print(\"-----------------------------------\")\n",
    "print(df_amazon.isnull().sum())\n",
    "print('-----------------------------------')\n",
    "df_amazon.duplicated().sum()"
   ]
  },
  {
   "cell_type": "code",
   "execution_count": 10,
   "metadata": {},
   "outputs": [
    {
     "name": "stdout",
     "output_type": "stream",
     "text": [
      "<class 'pandas.core.frame.DataFrame'>\n",
      "RangeIndex: 1450 entries, 0 to 1449\n",
      "Data columns (total 12 columns):\n",
      " #   Column        Non-Null Count  Dtype \n",
      "---  ------        --------------  ----- \n",
      " 0   show_id       1450 non-null   object\n",
      " 1   type          1450 non-null   object\n",
      " 2   title         1450 non-null   object\n",
      " 3   director      977 non-null    object\n",
      " 4   cast          1260 non-null   object\n",
      " 5   country       1231 non-null   object\n",
      " 6   date_added    1447 non-null   object\n",
      " 7   release_year  1450 non-null   int64 \n",
      " 8   rating        1447 non-null   object\n",
      " 9   duration      1450 non-null   object\n",
      " 10  listed_in     1450 non-null   object\n",
      " 11  description   1450 non-null   object\n",
      "dtypes: int64(1), object(11)\n",
      "memory usage: 136.1+ KB\n",
      "-----------------------------------\n",
      "show_id           0\n",
      "type              0\n",
      "title             0\n",
      "director        473\n",
      "cast            190\n",
      "country         219\n",
      "date_added        3\n",
      "release_year      0\n",
      "rating            3\n",
      "duration          0\n",
      "listed_in         0\n",
      "description       0\n",
      "dtype: int64\n",
      "-----------------------------------\n"
     ]
    },
    {
     "data": {
      "text/plain": [
       "0"
      ]
     },
     "execution_count": 10,
     "metadata": {},
     "output_type": "execute_result"
    }
   ],
   "source": [
    "df_disney.info()\n",
    "print(\"-----------------------------------\")\n",
    "print(df_disney.isnull().sum())\n",
    "print('-----------------------------------')\n",
    "df_disney.duplicated().sum()"
   ]
  },
  {
   "cell_type": "code",
   "execution_count": 11,
   "metadata": {},
   "outputs": [
    {
     "name": "stdout",
     "output_type": "stream",
     "text": [
      "<class 'pandas.core.frame.DataFrame'>\n",
      "RangeIndex: 3073 entries, 0 to 3072\n",
      "Data columns (total 12 columns):\n",
      " #   Column        Non-Null Count  Dtype  \n",
      "---  ------        --------------  -----  \n",
      " 0   show_id       3073 non-null   object \n",
      " 1   type          3073 non-null   object \n",
      " 2   title         3073 non-null   object \n",
      " 3   director      3 non-null      object \n",
      " 4   cast          0 non-null      float64\n",
      " 5   country       1620 non-null   object \n",
      " 6   date_added    3045 non-null   object \n",
      " 7   release_year  3073 non-null   int64  \n",
      " 8   rating        2553 non-null   object \n",
      " 9   duration      2594 non-null   object \n",
      " 10  listed_in     3073 non-null   object \n",
      " 11  description   3069 non-null   object \n",
      "dtypes: float64(1), int64(1), object(10)\n",
      "memory usage: 288.2+ KB\n",
      "-----------------------------------\n",
      "show_id            0\n",
      "type               0\n",
      "title              0\n",
      "director        3070\n",
      "cast            3073\n",
      "country         1453\n",
      "date_added        28\n",
      "release_year       0\n",
      "rating           520\n",
      "duration         479\n",
      "listed_in          0\n",
      "description        4\n",
      "dtype: int64\n",
      "-----------------------------------\n"
     ]
    },
    {
     "data": {
      "text/plain": [
       "0"
      ]
     },
     "execution_count": 11,
     "metadata": {},
     "output_type": "execute_result"
    }
   ],
   "source": [
    "df_hulu.info()\n",
    "print(\"-----------------------------------\")\n",
    "print(df_hulu.isnull().sum())\n",
    "print('-----------------------------------')\n",
    "df_hulu.duplicated().sum()"
   ]
  },
  {
   "cell_type": "code",
   "execution_count": 12,
   "metadata": {},
   "outputs": [
    {
     "name": "stdout",
     "output_type": "stream",
     "text": [
      "<class 'pandas.core.frame.DataFrame'>\n",
      "RangeIndex: 8807 entries, 0 to 8806\n",
      "Data columns (total 12 columns):\n",
      " #   Column        Non-Null Count  Dtype \n",
      "---  ------        --------------  ----- \n",
      " 0   show_id       8807 non-null   object\n",
      " 1   type          8807 non-null   object\n",
      " 2   title         8807 non-null   object\n",
      " 3   director      6173 non-null   object\n",
      " 4   cast          7982 non-null   object\n",
      " 5   country       7976 non-null   object\n",
      " 6   date_added    8797 non-null   object\n",
      " 7   release_year  8807 non-null   int64 \n",
      " 8   rating        8803 non-null   object\n",
      " 9   duration      8804 non-null   object\n",
      " 10  listed_in     8807 non-null   object\n",
      " 11  description   8807 non-null   object\n",
      "dtypes: int64(1), object(11)\n",
      "memory usage: 825.8+ KB\n",
      "-----------------------------------\n",
      "show_id            0\n",
      "type               0\n",
      "title              0\n",
      "director        2634\n",
      "cast             825\n",
      "country          831\n",
      "date_added        10\n",
      "release_year       0\n",
      "rating             4\n",
      "duration           3\n",
      "listed_in          0\n",
      "description        0\n",
      "dtype: int64\n",
      "-----------------------------------\n"
     ]
    },
    {
     "data": {
      "text/plain": [
       "0"
      ]
     },
     "execution_count": 12,
     "metadata": {},
     "output_type": "execute_result"
    }
   ],
   "source": [
    "df_netflix.info()\n",
    "print(\"-----------------------------------\")\n",
    "print(df_netflix.isnull().sum())\n",
    "print('-----------------------------------')\n",
    "df_netflix.duplicated().sum()"
   ]
  },
  {
   "cell_type": "code",
   "execution_count": 13,
   "metadata": {},
   "outputs": [],
   "source": [
    "# Cambio el tipo de dato de las columnas:\n",
    "df_amazon['show_id'] = df_amazon['show_id'].astype('string')\n",
    "df_amazon[\"type\"] = df_amazon[\"type\"].astype(\"string\")\n",
    "df_amazon[\"title\"] = df_amazon[\"title\"].astype(\"string\")\n",
    "df_amazon[\"director\"] = df_amazon[\"director\"].astype(\"string\")\n",
    "df_amazon[\"cast\"] = df_amazon[\"cast\"].astype(\"string\")\n",
    "df_amazon[\"country\"] = df_amazon[\"country\"].astype(\"string\")\n",
    "df_amazon[\"date_added\"] = pd.to_datetime(df_amazon[\"date_added\"]).dt.date\n",
    "df_amazon[\"release_year\"] = df_amazon[\"release_year\"].astype(\"string\")\n",
    "df_amazon[\"rating\"] = df_amazon[\"rating\"].astype(\"string\")\n",
    "df_amazon[\"duration\"] = df_amazon[\"duration\"].astype(\"string\")\n",
    "df_amazon[\"listed_in\"] = df_amazon[\"listed_in\"].astype(\"string\")\n",
    "df_amazon[\"description\"] = df_amazon[\"description\"].astype(\"string\")"
   ]
  },
  {
   "cell_type": "code",
   "execution_count": 14,
   "metadata": {},
   "outputs": [],
   "source": [
    "df_disney[\"show_id\"] = df_disney[\"show_id\"].astype(\"string\")\n",
    "df_disney[\"type\"] = df_disney[\"type\"].astype(\"string\")\n",
    "df_disney[\"title\"] = df_disney[\"title\"].astype(\"string\")\n",
    "df_disney[\"director\"] = df_disney[\"director\"].astype(\"string\")\n",
    "df_disney[\"cast\"] = df_disney[\"cast\"].astype(\"string\")\n",
    "df_disney[\"country\"] = df_disney[\"country\"].astype(\"string\")\n",
    "df_disney[\"date_added\"] = pd.to_datetime(df_disney[\"date_added\"]).dt.date\n",
    "df_disney[\"release_year\"] = df_disney[\"release_year\"].astype(\"string\")\n",
    "df_disney[\"rating\"] = df_disney[\"rating\"].astype(\"string\")\n",
    "df_disney[\"duration\"] = df_disney[\"duration\"].astype(\"string\")\n",
    "df_disney[\"listed_in\"] = df_disney[\"listed_in\"].astype(\"string\")\n",
    "df_disney[\"description\"] = df_disney[\"description\"].astype(\"string\")"
   ]
  },
  {
   "cell_type": "code",
   "execution_count": 15,
   "metadata": {},
   "outputs": [],
   "source": [
    "df_hulu[\"show_id\"] = df_hulu[\"show_id\"].astype(\"string\")\n",
    "df_hulu[\"type\"] = df_hulu[\"type\"].astype(\"string\")\n",
    "df_hulu[\"title\"] = df_hulu[\"title\"].astype(\"string\")\n",
    "df_hulu[\"director\"] = df_hulu[\"director\"].astype(\"string\")\n",
    "df_hulu[\"cast\"] = df_hulu[\"cast\"].astype(\"string\")\n",
    "df_hulu[\"country\"] = df_hulu[\"country\"].astype(\"string\")\n",
    "df_hulu[\"date_added\"] = pd.to_datetime(df_hulu[\"date_added\"]).dt.date\n",
    "df_hulu[\"release_year\"] = df_hulu[\"release_year\"].astype(\"string\")\n",
    "df_hulu[\"rating\"] = df_hulu[\"rating\"].astype(\"string\")\n",
    "df_hulu[\"duration\"] = df_hulu[\"duration\"].astype(\"string\")\n",
    "df_hulu[\"listed_in\"] = df_hulu[\"listed_in\"].astype(\"string\")\n",
    "df_hulu[\"description\"] = df_hulu[\"description\"].astype(\"string\")"
   ]
  },
  {
   "cell_type": "code",
   "execution_count": 16,
   "metadata": {},
   "outputs": [],
   "source": [
    "df_netflix[\"show_id\"] = df_netflix[\"show_id\"].astype(\"string\")\n",
    "df_netflix[\"type\"] = df_netflix[\"type\"].astype(\"string\")\n",
    "df_netflix[\"title\"] = df_netflix[\"title\"].astype(\"string\")\n",
    "df_netflix[\"director\"] = df_netflix[\"director\"].astype(\"string\")\n",
    "df_netflix[\"cast\"] = df_netflix[\"cast\"].astype(\"string\")\n",
    "df_netflix[\"country\"] = df_netflix[\"country\"].astype(\"string\")\n",
    "df_netflix[\"date_added\"] = pd.to_datetime(df_netflix[\"date_added\"]).dt.date\n",
    "df_netflix[\"release_year\"] = df_netflix[\"release_year\"].astype(\"string\")\n",
    "df_netflix[\"rating\"] = df_netflix[\"rating\"].astype(\"string\")\n",
    "df_netflix[\"duration\"] = df_netflix[\"duration\"].astype(\"string\")\n",
    "df_netflix[\"listed_in\"] = df_netflix[\"listed_in\"].astype(\"string\")\n",
    "df_netflix[\"description\"] = df_netflix[\"description\"].astype(\"string\")"
   ]
  },
  {
   "cell_type": "code",
   "execution_count": 17,
   "metadata": {},
   "outputs": [],
   "source": [
    "# Genero campo id: Cada id se compondrá de la primera letra del nombre de la plataforma, seguido del show_id ya presente en los datasets:\n",
    "\n",
    "df_amazon.insert(0, 'id', df_amazon['show_id'], allow_duplicates=False)\n",
    "df_amazon['id'] = 'a' + df_amazon['show_id']\n",
    "\n",
    "df_disney.insert(0, 'id', df_disney['show_id'], allow_duplicates=False)\n",
    "df_disney['id'] = 'd' + df_disney['show_id']\n",
    "\n",
    "df_hulu.insert(0, 'id', df_hulu['show_id'], allow_duplicates=False)\n",
    "df_hulu['id'] = 'h' + df_hulu['show_id']\n",
    "\n",
    "df_netflix.insert(0, 'id', df_netflix['show_id'], allow_duplicates=False)\n",
    "df_netflix['id'] = 'n' + df_netflix['show_id']"
   ]
  },
  {
   "cell_type": "code",
   "execution_count": 18,
   "metadata": {},
   "outputs": [],
   "source": [
    "# Genero una columna con el nombre de cada plataforma\n",
    "df_amazon['plataforma'] = 'amazon'\n",
    "df_disney['plataforma'] = 'disney'\n",
    "df_hulu['plataforma'] = 'hulu'\n",
    "df_netflix['plataforma'] = 'netflix'"
   ]
  },
  {
   "cell_type": "code",
   "execution_count": 19,
   "metadata": {},
   "outputs": [],
   "source": [
    "# El campo duration debe convertirse en dos campos: 'duration_int' y 'duration_type'. El primero será un integer y el segundo un string indicando la unidad de medición de duración: min (minutos) o season (temporadas) \n",
    "div = df_amazon['duration'].str.split(\" \", n=1, expand=True)\n",
    "df_amazon['duration_int'] = div[0]\n",
    "df_amazon['duration_type'] = div[1]"
   ]
  },
  {
   "cell_type": "code",
   "execution_count": 20,
   "metadata": {},
   "outputs": [],
   "source": [
    "div = df_disney['duration'].str.split(\" \", n=1, expand=True)\n",
    "df_disney['duration_int'] = div[0]\n",
    "df_disney['duration_type'] = div[1]"
   ]
  },
  {
   "cell_type": "code",
   "execution_count": 21,
   "metadata": {},
   "outputs": [],
   "source": [
    "div = df_hulu['duration'].str.split(\" \", n=1, expand=True)\n",
    "df_hulu['duration_int'] = div[0]\n",
    "df_hulu['duration_type'] = div[1]"
   ]
  },
  {
   "cell_type": "code",
   "execution_count": 22,
   "metadata": {},
   "outputs": [],
   "source": [
    "div = df_netflix[\"duration\"].str.split(\" \", n=1, expand=True)\n",
    "df_netflix[\"duration_int\"] = div[0]\n",
    "df_netflix[\"duration_type\"] = div[1]"
   ]
  },
  {
   "cell_type": "code",
   "execution_count": 23,
   "metadata": {},
   "outputs": [],
   "source": [
    "# Elimino la columna 'duration' ya que no aportaría informacion valiosa: \n",
    "df_amazon.drop(['duration'], axis=1, inplace=True)\n",
    "df_disney.drop(['duration'], axis=1, inplace=True)\n",
    "df_hulu.drop(['duration'], axis=1, inplace=True)\n",
    "df_netflix.drop(['duration'], axis=1, inplace=True)"
   ]
  },
  {
   "cell_type": "code",
   "execution_count": 24,
   "metadata": {},
   "outputs": [],
   "source": [
    "# Los valores nulos del campo rating son reemplazardos por el string “G” (corresponde al maturity rating: “general for all audiences”):\n",
    "df_amazon.rating.fillna('G', inplace=True)\n",
    "df_disney.rating.fillna('G', inplace=True)\n",
    "df_hulu.rating.fillna('G', inplace=True)\n",
    "df_netflix.rating.fillna('G', inplace=True)"
   ]
  },
  {
   "cell_type": "code",
   "execution_count": 25,
   "metadata": {},
   "outputs": [],
   "source": [
    "# Modifico los campos de txt para que estén todos en minúsculas:\n",
    "df_amazon['type'] = df_amazon['type'].str.lower()\n",
    "df_amazon['title'] = df_amazon['title'].str.lower()\n",
    "df_amazon['director'] = df_amazon['director'].str.lower()\n",
    "df_amazon['cast'] = df_amazon['cast'].str.lower()\n",
    "df_amazon['country'] = df_amazon['country'].str.lower()\n",
    "df_amazon['rating'] = df_amazon['rating'].str.lower()\n",
    "df_amazon['listed_in'] = df_amazon['listed_in'].str.lower()\n",
    "df_amazon['description'] = df_amazon['description'].str.lower()"
   ]
  },
  {
   "cell_type": "code",
   "execution_count": 26,
   "metadata": {},
   "outputs": [],
   "source": [
    "df_disney['type'] = df_disney['type'].str.lower()\n",
    "df_disney['title'] = df_disney['title'].str.lower()\n",
    "df_disney['director'] = df_disney['director'].str.lower()\n",
    "df_disney['cast'] = df_disney['cast'].str.lower()\n",
    "df_disney['country'] = df_disney['country'].str.lower()\n",
    "df_disney['rating'] = df_disney['rating'].str.lower()\n",
    "df_disney['listed_in'] = df_disney['listed_in'].str.lower()\n",
    "df_disney['description'] = df_disney['description'].str.lower()"
   ]
  },
  {
   "cell_type": "code",
   "execution_count": 27,
   "metadata": {},
   "outputs": [],
   "source": [
    "df_hulu['type'] = df_hulu['type'].str.lower()\n",
    "df_hulu['title'] = df_hulu['title'].str.lower()\n",
    "df_hulu['director'] = df_hulu['director'].str.lower()\n",
    "df_hulu['cast'] = df_hulu['cast'].str.lower()\n",
    "df_hulu['country'] = df_hulu['country'].str.lower()\n",
    "df_hulu['rating'] = df_hulu['rating'].str.lower()\n",
    "df_hulu['listed_in'] = df_hulu['listed_in'].str.lower()\n",
    "df_hulu['description'] = df_hulu['description'].str.lower()"
   ]
  },
  {
   "cell_type": "code",
   "execution_count": 28,
   "metadata": {},
   "outputs": [],
   "source": [
    "df_netflix['type'] = df_netflix['type'].str.lower()\n",
    "df_netflix['title'] = df_netflix['title'].str.lower()\n",
    "df_netflix['director'] = df_netflix['director'].str.lower()\n",
    "df_netflix['cast'] = df_netflix['cast'].str.lower()\n",
    "df_netflix['country'] = df_netflix['country'].str.lower()\n",
    "df_netflix['rating'] = df_netflix['rating'].str.lower()\n",
    "df_netflix['listed_in'] = df_netflix['listed_in'].str.lower()\n",
    "df_netflix['description'] = df_netflix['description'].str.lower()"
   ]
  },
  {
   "cell_type": "code",
   "execution_count": 29,
   "metadata": {},
   "outputs": [],
   "source": [
    "#Transformo el tipo de dato de la columna \"duration_int\" a entero:\n",
    "df_amazon['duration_int'] = df_amazon['duration_int'].astype(\"Int64\")\n",
    "df_disney['duration_int'] = df_disney['duration_int'].astype(\"Int64\")\n",
    "df_hulu['duration_int'] = df_hulu['duration_int'].astype(\"Int64\")\n",
    "df_netflix['duration_int'] = df_netflix['duration_int'].astype(\"Int64\")"
   ]
  },
  {
   "cell_type": "code",
   "execution_count": 30,
   "metadata": {},
   "outputs": [
    {
     "name": "stdout",
     "output_type": "stream",
     "text": [
      "<class 'pandas.core.frame.DataFrame'>\n",
      "RangeIndex: 8807 entries, 0 to 8806\n",
      "Data columns (total 15 columns):\n",
      " #   Column         Non-Null Count  Dtype \n",
      "---  ------         --------------  ----- \n",
      " 0   id             8807 non-null   string\n",
      " 1   show_id        8807 non-null   string\n",
      " 2   type           8807 non-null   string\n",
      " 3   title          8807 non-null   string\n",
      " 4   director       6173 non-null   string\n",
      " 5   cast           7982 non-null   string\n",
      " 6   country        7976 non-null   string\n",
      " 7   date_added     8797 non-null   object\n",
      " 8   release_year   8807 non-null   string\n",
      " 9   rating         8807 non-null   string\n",
      " 10  listed_in      8807 non-null   string\n",
      " 11  description    8807 non-null   string\n",
      " 12  plataforma     8807 non-null   object\n",
      " 13  duration_int   8804 non-null   Int64 \n",
      " 14  duration_type  8804 non-null   string\n",
      "dtypes: Int64(1), object(2), string(12)\n",
      "memory usage: 1.0+ MB\n"
     ]
    }
   ],
   "source": [
    "df_netflix.info()"
   ]
  },
  {
   "cell_type": "code",
   "execution_count": 31,
   "metadata": {},
   "outputs": [],
   "source": [
    "# Concateno los dataframes de plataformas\n",
    "df_platforms = pd.concat([df_amazon, df_disney, df_hulu, df_netflix])"
   ]
  },
  {
   "cell_type": "code",
   "execution_count": 32,
   "metadata": {},
   "outputs": [
    {
     "name": "stdout",
     "output_type": "stream",
     "text": [
      "<class 'pandas.core.frame.DataFrame'>\n",
      "Int64Index: 22998 entries, 0 to 8806\n",
      "Data columns (total 15 columns):\n",
      " #   Column         Non-Null Count  Dtype \n",
      "---  ------         --------------  ----- \n",
      " 0   id             22998 non-null  string\n",
      " 1   show_id        22998 non-null  string\n",
      " 2   type           22998 non-null  string\n",
      " 3   title          22998 non-null  string\n",
      " 4   director       14739 non-null  string\n",
      " 5   cast           17677 non-null  string\n",
      " 6   country        11499 non-null  string\n",
      " 7   date_added     13444 non-null  object\n",
      " 8   release_year   22998 non-null  string\n",
      " 9   rating         22998 non-null  string\n",
      " 10  listed_in      22998 non-null  string\n",
      " 11  description    22994 non-null  string\n",
      " 12  plataforma     22998 non-null  object\n",
      " 13  duration_int   22516 non-null  Int64 \n",
      " 14  duration_type  22516 non-null  string\n",
      "dtypes: Int64(1), object(2), string(12)\n",
      "memory usage: 2.8+ MB\n"
     ]
    }
   ],
   "source": [
    "# Veo la información general del dataframe 'platforms'\n",
    "df_platforms.info()"
   ]
  },
  {
   "cell_type": "code",
   "execution_count": 33,
   "metadata": {},
   "outputs": [],
   "source": [
    "# Exporto el archivo a un csv nuevo:\n",
    "df_platforms.to_csv(\"platforms.csv\", index=False)"
   ]
  },
  {
   "attachments": {},
   "cell_type": "markdown",
   "metadata": {},
   "source": [
    "2) PROCESAMIENTO ETL DE LOS CSV 'RATINGS'"
   ]
  },
  {
   "cell_type": "code",
   "execution_count": 3,
   "metadata": {},
   "outputs": [],
   "source": [
    "# Almaceno los csv de plataformas en dataframes de pandas\n",
    "df_1 = pd.read_csv('./Datasets/1.csv', sep=',')\n",
    "df_2 = pd.read_csv('./Datasets/2.csv', sep=',')\n",
    "df_3 = pd.read_csv('./Datasets/3.csv', sep=',')\n",
    "df_4 = pd.read_csv('./Datasets/4.csv', sep=',')\n",
    "df_5 = pd.read_csv('./Datasets/5.csv', sep=',')\n",
    "df_6 = pd.read_csv('./Datasets/6.csv', sep=',')\n",
    "df_7 = pd.read_csv('./Datasets/7.csv', sep=',')\n",
    "df_8 = pd.read_csv('./Datasets/8.csv', sep=',')"
   ]
  },
  {
   "cell_type": "code",
   "execution_count": 78,
   "metadata": {},
   "outputs": [
    {
     "data": {
      "text/html": [
       "<div>\n",
       "<style scoped>\n",
       "    .dataframe tbody tr th:only-of-type {\n",
       "        vertical-align: middle;\n",
       "    }\n",
       "\n",
       "    .dataframe tbody tr th {\n",
       "        vertical-align: top;\n",
       "    }\n",
       "\n",
       "    .dataframe thead th {\n",
       "        text-align: right;\n",
       "    }\n",
       "</style>\n",
       "<table border=\"1\" class=\"dataframe\">\n",
       "  <thead>\n",
       "    <tr style=\"text-align: right;\">\n",
       "      <th></th>\n",
       "      <th>userId</th>\n",
       "      <th>rating</th>\n",
       "      <th>timestamp</th>\n",
       "      <th>movieId</th>\n",
       "    </tr>\n",
       "  </thead>\n",
       "  <tbody>\n",
       "    <tr>\n",
       "      <th>0</th>\n",
       "      <td>1</td>\n",
       "      <td>1.0</td>\n",
       "      <td>1425941529</td>\n",
       "      <td>as680</td>\n",
       "    </tr>\n",
       "    <tr>\n",
       "      <th>1</th>\n",
       "      <td>1</td>\n",
       "      <td>4.5</td>\n",
       "      <td>1425942435</td>\n",
       "      <td>ns2186</td>\n",
       "    </tr>\n",
       "    <tr>\n",
       "      <th>2</th>\n",
       "      <td>1</td>\n",
       "      <td>5.0</td>\n",
       "      <td>1425941523</td>\n",
       "      <td>hs2381</td>\n",
       "    </tr>\n",
       "  </tbody>\n",
       "</table>\n",
       "</div>"
      ],
      "text/plain": [
       "   userId  rating   timestamp movieId\n",
       "0       1     1.0  1425941529   as680\n",
       "1       1     4.5  1425942435  ns2186\n",
       "2       1     5.0  1425941523  hs2381"
      ]
     },
     "execution_count": 78,
     "metadata": {},
     "output_type": "execute_result"
    }
   ],
   "source": [
    "# Inicio el EDA en cada uno de los dataframes\n",
    "df_1.head(3)"
   ]
  },
  {
   "cell_type": "code",
   "execution_count": 79,
   "metadata": {},
   "outputs": [
    {
     "data": {
      "text/html": [
       "<div>\n",
       "<style scoped>\n",
       "    .dataframe tbody tr th:only-of-type {\n",
       "        vertical-align: middle;\n",
       "    }\n",
       "\n",
       "    .dataframe tbody tr th {\n",
       "        vertical-align: top;\n",
       "    }\n",
       "\n",
       "    .dataframe thead th {\n",
       "        text-align: right;\n",
       "    }\n",
       "</style>\n",
       "<table border=\"1\" class=\"dataframe\">\n",
       "  <thead>\n",
       "    <tr style=\"text-align: right;\">\n",
       "      <th></th>\n",
       "      <th>userId</th>\n",
       "      <th>rating</th>\n",
       "      <th>timestamp</th>\n",
       "      <th>movieId</th>\n",
       "    </tr>\n",
       "  </thead>\n",
       "  <tbody>\n",
       "    <tr>\n",
       "      <th>0</th>\n",
       "      <td>15424</td>\n",
       "      <td>3.0</td>\n",
       "      <td>1369585147</td>\n",
       "      <td>ns3012</td>\n",
       "    </tr>\n",
       "    <tr>\n",
       "      <th>1</th>\n",
       "      <td>15424</td>\n",
       "      <td>2.5</td>\n",
       "      <td>1369586851</td>\n",
       "      <td>ns3195</td>\n",
       "    </tr>\n",
       "    <tr>\n",
       "      <th>2</th>\n",
       "      <td>15424</td>\n",
       "      <td>3.0</td>\n",
       "      <td>1369585112</td>\n",
       "      <td>ns357</td>\n",
       "    </tr>\n",
       "  </tbody>\n",
       "</table>\n",
       "</div>"
      ],
      "text/plain": [
       "   userId  rating   timestamp movieId\n",
       "0   15424     3.0  1369585147  ns3012\n",
       "1   15424     2.5  1369586851  ns3195\n",
       "2   15424     3.0  1369585112   ns357"
      ]
     },
     "execution_count": 79,
     "metadata": {},
     "output_type": "execute_result"
    }
   ],
   "source": [
    "df_2.head(3)"
   ]
  },
  {
   "cell_type": "code",
   "execution_count": 80,
   "metadata": {},
   "outputs": [
    {
     "data": {
      "text/html": [
       "<div>\n",
       "<style scoped>\n",
       "    .dataframe tbody tr th:only-of-type {\n",
       "        vertical-align: middle;\n",
       "    }\n",
       "\n",
       "    .dataframe tbody tr th {\n",
       "        vertical-align: top;\n",
       "    }\n",
       "\n",
       "    .dataframe thead th {\n",
       "        text-align: right;\n",
       "    }\n",
       "</style>\n",
       "<table border=\"1\" class=\"dataframe\">\n",
       "  <thead>\n",
       "    <tr style=\"text-align: right;\">\n",
       "      <th></th>\n",
       "      <th>userId</th>\n",
       "      <th>rating</th>\n",
       "      <th>timestamp</th>\n",
       "      <th>movieId</th>\n",
       "    </tr>\n",
       "  </thead>\n",
       "  <tbody>\n",
       "    <tr>\n",
       "      <th>0</th>\n",
       "      <td>31332</td>\n",
       "      <td>4.0</td>\n",
       "      <td>974205261</td>\n",
       "      <td>as2251</td>\n",
       "    </tr>\n",
       "    <tr>\n",
       "      <th>1</th>\n",
       "      <td>31332</td>\n",
       "      <td>3.0</td>\n",
       "      <td>974205170</td>\n",
       "      <td>as7226</td>\n",
       "    </tr>\n",
       "    <tr>\n",
       "      <th>2</th>\n",
       "      <td>31332</td>\n",
       "      <td>3.0</td>\n",
       "      <td>974205034</td>\n",
       "      <td>as6479</td>\n",
       "    </tr>\n",
       "  </tbody>\n",
       "</table>\n",
       "</div>"
      ],
      "text/plain": [
       "   userId  rating  timestamp movieId\n",
       "0   31332     4.0  974205261  as2251\n",
       "1   31332     3.0  974205170  as7226\n",
       "2   31332     3.0  974205034  as6479"
      ]
     },
     "execution_count": 80,
     "metadata": {},
     "output_type": "execute_result"
    }
   ],
   "source": [
    "df_3.head(3)"
   ]
  },
  {
   "cell_type": "code",
   "execution_count": 81,
   "metadata": {},
   "outputs": [
    {
     "data": {
      "text/html": [
       "<div>\n",
       "<style scoped>\n",
       "    .dataframe tbody tr th:only-of-type {\n",
       "        vertical-align: middle;\n",
       "    }\n",
       "\n",
       "    .dataframe tbody tr th {\n",
       "        vertical-align: top;\n",
       "    }\n",
       "\n",
       "    .dataframe thead th {\n",
       "        text-align: right;\n",
       "    }\n",
       "</style>\n",
       "<table border=\"1\" class=\"dataframe\">\n",
       "  <thead>\n",
       "    <tr style=\"text-align: right;\">\n",
       "      <th></th>\n",
       "      <th>userId</th>\n",
       "      <th>rating</th>\n",
       "      <th>timestamp</th>\n",
       "      <th>movieId</th>\n",
       "    </tr>\n",
       "  </thead>\n",
       "  <tbody>\n",
       "    <tr>\n",
       "      <th>0</th>\n",
       "      <td>46200</td>\n",
       "      <td>5.0</td>\n",
       "      <td>1015603683</td>\n",
       "      <td>as3203</td>\n",
       "    </tr>\n",
       "    <tr>\n",
       "      <th>1</th>\n",
       "      <td>46200</td>\n",
       "      <td>1.0</td>\n",
       "      <td>1012323069</td>\n",
       "      <td>as5959</td>\n",
       "    </tr>\n",
       "    <tr>\n",
       "      <th>2</th>\n",
       "      <td>46200</td>\n",
       "      <td>3.0</td>\n",
       "      <td>996245609</td>\n",
       "      <td>as4430</td>\n",
       "    </tr>\n",
       "  </tbody>\n",
       "</table>\n",
       "</div>"
      ],
      "text/plain": [
       "   userId  rating   timestamp movieId\n",
       "0   46200     5.0  1015603683  as3203\n",
       "1   46200     1.0  1012323069  as5959\n",
       "2   46200     3.0   996245609  as4430"
      ]
     },
     "execution_count": 81,
     "metadata": {},
     "output_type": "execute_result"
    }
   ],
   "source": [
    "df_4.head(3)"
   ]
  },
  {
   "cell_type": "code",
   "execution_count": 82,
   "metadata": {},
   "outputs": [
    {
     "data": {
      "text/html": [
       "<div>\n",
       "<style scoped>\n",
       "    .dataframe tbody tr th:only-of-type {\n",
       "        vertical-align: middle;\n",
       "    }\n",
       "\n",
       "    .dataframe tbody tr th {\n",
       "        vertical-align: top;\n",
       "    }\n",
       "\n",
       "    .dataframe thead th {\n",
       "        text-align: right;\n",
       "    }\n",
       "</style>\n",
       "<table border=\"1\" class=\"dataframe\">\n",
       "  <thead>\n",
       "    <tr style=\"text-align: right;\">\n",
       "      <th></th>\n",
       "      <th>userId</th>\n",
       "      <th>rating</th>\n",
       "      <th>timestamp</th>\n",
       "      <th>movieId</th>\n",
       "    </tr>\n",
       "  </thead>\n",
       "  <tbody>\n",
       "    <tr>\n",
       "      <th>0</th>\n",
       "      <td>61768</td>\n",
       "      <td>4.0</td>\n",
       "      <td>1438075492</td>\n",
       "      <td>as5376</td>\n",
       "    </tr>\n",
       "    <tr>\n",
       "      <th>1</th>\n",
       "      <td>61768</td>\n",
       "      <td>3.0</td>\n",
       "      <td>1435693148</td>\n",
       "      <td>as7172</td>\n",
       "    </tr>\n",
       "    <tr>\n",
       "      <th>2</th>\n",
       "      <td>61768</td>\n",
       "      <td>3.0</td>\n",
       "      <td>1438075482</td>\n",
       "      <td>ns4557</td>\n",
       "    </tr>\n",
       "  </tbody>\n",
       "</table>\n",
       "</div>"
      ],
      "text/plain": [
       "   userId  rating   timestamp movieId\n",
       "0   61768     4.0  1438075492  as5376\n",
       "1   61768     3.0  1435693148  as7172\n",
       "2   61768     3.0  1438075482  ns4557"
      ]
     },
     "execution_count": 82,
     "metadata": {},
     "output_type": "execute_result"
    }
   ],
   "source": [
    "df_5.head(3)"
   ]
  },
  {
   "cell_type": "code",
   "execution_count": 83,
   "metadata": {},
   "outputs": [
    {
     "data": {
      "text/html": [
       "<div>\n",
       "<style scoped>\n",
       "    .dataframe tbody tr th:only-of-type {\n",
       "        vertical-align: middle;\n",
       "    }\n",
       "\n",
       "    .dataframe tbody tr th {\n",
       "        vertical-align: top;\n",
       "    }\n",
       "\n",
       "    .dataframe thead th {\n",
       "        text-align: right;\n",
       "    }\n",
       "</style>\n",
       "<table border=\"1\" class=\"dataframe\">\n",
       "  <thead>\n",
       "    <tr style=\"text-align: right;\">\n",
       "      <th></th>\n",
       "      <th>userId</th>\n",
       "      <th>rating</th>\n",
       "      <th>timestamp</th>\n",
       "      <th>movieId</th>\n",
       "    </tr>\n",
       "  </thead>\n",
       "  <tbody>\n",
       "    <tr>\n",
       "      <th>0</th>\n",
       "      <td>249182</td>\n",
       "      <td>3.5</td>\n",
       "      <td>1460518555</td>\n",
       "      <td>ds327</td>\n",
       "    </tr>\n",
       "    <tr>\n",
       "      <th>1</th>\n",
       "      <td>249182</td>\n",
       "      <td>4.0</td>\n",
       "      <td>1461878500</td>\n",
       "      <td>ns2124</td>\n",
       "    </tr>\n",
       "    <tr>\n",
       "      <th>2</th>\n",
       "      <td>249182</td>\n",
       "      <td>3.0</td>\n",
       "      <td>1460182087</td>\n",
       "      <td>as8841</td>\n",
       "    </tr>\n",
       "  </tbody>\n",
       "</table>\n",
       "</div>"
      ],
      "text/plain": [
       "   userId  rating   timestamp movieId\n",
       "0  249182     3.5  1460518555   ds327\n",
       "1  249182     4.0  1461878500  ns2124\n",
       "2  249182     3.0  1460182087  as8841"
      ]
     },
     "execution_count": 83,
     "metadata": {},
     "output_type": "execute_result"
    }
   ],
   "source": [
    "df_6.head(3)"
   ]
  },
  {
   "cell_type": "code",
   "execution_count": 84,
   "metadata": {},
   "outputs": [
    {
     "data": {
      "text/html": [
       "<div>\n",
       "<style scoped>\n",
       "    .dataframe tbody tr th:only-of-type {\n",
       "        vertical-align: middle;\n",
       "    }\n",
       "\n",
       "    .dataframe tbody tr th {\n",
       "        vertical-align: top;\n",
       "    }\n",
       "\n",
       "    .dataframe thead th {\n",
       "        text-align: right;\n",
       "    }\n",
       "</style>\n",
       "<table border=\"1\" class=\"dataframe\">\n",
       "  <thead>\n",
       "    <tr style=\"text-align: right;\">\n",
       "      <th></th>\n",
       "      <th>userId</th>\n",
       "      <th>rating</th>\n",
       "      <th>timestamp</th>\n",
       "      <th>movieId</th>\n",
       "    </tr>\n",
       "  </thead>\n",
       "  <tbody>\n",
       "    <tr>\n",
       "      <th>0</th>\n",
       "      <td>265409</td>\n",
       "      <td>5.0</td>\n",
       "      <td>891417042</td>\n",
       "      <td>ds781</td>\n",
       "    </tr>\n",
       "    <tr>\n",
       "      <th>1</th>\n",
       "      <td>265409</td>\n",
       "      <td>5.0</td>\n",
       "      <td>891417042</td>\n",
       "      <td>as9331</td>\n",
       "    </tr>\n",
       "    <tr>\n",
       "      <th>2</th>\n",
       "      <td>265409</td>\n",
       "      <td>4.0</td>\n",
       "      <td>891417435</td>\n",
       "      <td>hs384</td>\n",
       "    </tr>\n",
       "  </tbody>\n",
       "</table>\n",
       "</div>"
      ],
      "text/plain": [
       "   userId  rating  timestamp movieId\n",
       "0  265409     5.0  891417042   ds781\n",
       "1  265409     5.0  891417042  as9331\n",
       "2  265409     4.0  891417435   hs384"
      ]
     },
     "execution_count": 84,
     "metadata": {},
     "output_type": "execute_result"
    }
   ],
   "source": [
    "df_7.head(3)"
   ]
  },
  {
   "cell_type": "code",
   "execution_count": 85,
   "metadata": {},
   "outputs": [
    {
     "data": {
      "text/html": [
       "<div>\n",
       "<style scoped>\n",
       "    .dataframe tbody tr th:only-of-type {\n",
       "        vertical-align: middle;\n",
       "    }\n",
       "\n",
       "    .dataframe tbody tr th {\n",
       "        vertical-align: top;\n",
       "    }\n",
       "\n",
       "    .dataframe thead th {\n",
       "        text-align: right;\n",
       "    }\n",
       "</style>\n",
       "<table border=\"1\" class=\"dataframe\">\n",
       "  <thead>\n",
       "    <tr style=\"text-align: right;\">\n",
       "      <th></th>\n",
       "      <th>userId</th>\n",
       "      <th>rating</th>\n",
       "      <th>timestamp</th>\n",
       "      <th>movieId</th>\n",
       "    </tr>\n",
       "  </thead>\n",
       "  <tbody>\n",
       "    <tr>\n",
       "      <th>0</th>\n",
       "      <td>108422</td>\n",
       "      <td>4.5</td>\n",
       "      <td>1350689762</td>\n",
       "      <td>as1399</td>\n",
       "    </tr>\n",
       "    <tr>\n",
       "      <th>1</th>\n",
       "      <td>108422</td>\n",
       "      <td>4.0</td>\n",
       "      <td>1350341401</td>\n",
       "      <td>as6724</td>\n",
       "    </tr>\n",
       "    <tr>\n",
       "      <th>2</th>\n",
       "      <td>108422</td>\n",
       "      <td>5.0</td>\n",
       "      <td>1350689691</td>\n",
       "      <td>ns512</td>\n",
       "    </tr>\n",
       "  </tbody>\n",
       "</table>\n",
       "</div>"
      ],
      "text/plain": [
       "   userId  rating   timestamp movieId\n",
       "0  108422     4.5  1350689762  as1399\n",
       "1  108422     4.0  1350341401  as6724\n",
       "2  108422     5.0  1350689691   ns512"
      ]
     },
     "execution_count": 85,
     "metadata": {},
     "output_type": "execute_result"
    }
   ],
   "source": [
    "df_8.head(3)"
   ]
  },
  {
   "cell_type": "code",
   "execution_count": 35,
   "metadata": {},
   "outputs": [
    {
     "name": "stdout",
     "output_type": "stream",
     "text": [
      "<class 'pandas.core.frame.DataFrame'>\n",
      "RangeIndex: 1500000 entries, 0 to 1499999\n",
      "Data columns (total 4 columns):\n",
      " #   Column     Non-Null Count    Dtype  \n",
      "---  ------     --------------    -----  \n",
      " 0   userId     1500000 non-null  int64  \n",
      " 1   rating     1500000 non-null  float64\n",
      " 2   timestamp  1500000 non-null  int64  \n",
      " 3   movieId    1500000 non-null  object \n",
      "dtypes: float64(1), int64(2), object(1)\n",
      "memory usage: 45.8+ MB\n",
      "-----------------------------------\n",
      "userId       0\n",
      "rating       0\n",
      "timestamp    0\n",
      "movieId      0\n",
      "dtype: int64\n",
      "-----------------------------------\n"
     ]
    },
    {
     "data": {
      "text/plain": [
       "14"
      ]
     },
     "execution_count": 35,
     "metadata": {},
     "output_type": "execute_result"
    }
   ],
   "source": [
    "# Veo la información general de cada dataframe, cantidad de valores nulos y cantidad de valores duplicados\n",
    "df_1.info()\n",
    "print(\"-----------------------------------\")\n",
    "print(df_1.isnull().sum())\n",
    "print('-----------------------------------')\n",
    "df_1.duplicated().sum()"
   ]
  },
  {
   "cell_type": "code",
   "execution_count": 87,
   "metadata": {},
   "outputs": [
    {
     "name": "stdout",
     "output_type": "stream",
     "text": [
      "<class 'pandas.core.frame.DataFrame'>\n",
      "RangeIndex: 1500000 entries, 0 to 1499999\n",
      "Data columns (total 4 columns):\n",
      " #   Column     Non-Null Count    Dtype  \n",
      "---  ------     --------------    -----  \n",
      " 0   userId     1500000 non-null  int64  \n",
      " 1   rating     1500000 non-null  float64\n",
      " 2   timestamp  1500000 non-null  int64  \n",
      " 3   movieId    1500000 non-null  object \n",
      "dtypes: float64(1), int64(2), object(1)\n",
      "memory usage: 45.8+ MB\n",
      "-----------------------------------\n",
      "userId       0\n",
      "rating       0\n",
      "timestamp    0\n",
      "movieId      0\n",
      "dtype: int64\n",
      "-----------------------------------\n"
     ]
    },
    {
     "data": {
      "text/plain": [
       "10"
      ]
     },
     "execution_count": 87,
     "metadata": {},
     "output_type": "execute_result"
    }
   ],
   "source": [
    "df_2.info()\n",
    "print(\"-----------------------------------\")\n",
    "print(df_2.isnull().sum())\n",
    "print('-----------------------------------')\n",
    "df_2.duplicated().sum()"
   ]
  },
  {
   "cell_type": "code",
   "execution_count": 88,
   "metadata": {},
   "outputs": [
    {
     "name": "stdout",
     "output_type": "stream",
     "text": [
      "<class 'pandas.core.frame.DataFrame'>\n",
      "RangeIndex: 1500000 entries, 0 to 1499999\n",
      "Data columns (total 4 columns):\n",
      " #   Column     Non-Null Count    Dtype  \n",
      "---  ------     --------------    -----  \n",
      " 0   userId     1500000 non-null  int64  \n",
      " 1   rating     1500000 non-null  float64\n",
      " 2   timestamp  1500000 non-null  int64  \n",
      " 3   movieId    1500000 non-null  object \n",
      "dtypes: float64(1), int64(2), object(1)\n",
      "memory usage: 45.8+ MB\n",
      "-----------------------------------\n",
      "userId       0\n",
      "rating       0\n",
      "timestamp    0\n",
      "movieId      0\n",
      "dtype: int64\n",
      "-----------------------------------\n"
     ]
    },
    {
     "data": {
      "text/plain": [
       "23"
      ]
     },
     "execution_count": 88,
     "metadata": {},
     "output_type": "execute_result"
    }
   ],
   "source": [
    "df_3.info()\n",
    "print(\"-----------------------------------\")\n",
    "print(df_3.isnull().sum())\n",
    "print('-----------------------------------')\n",
    "df_3.duplicated().sum()"
   ]
  },
  {
   "cell_type": "code",
   "execution_count": 89,
   "metadata": {},
   "outputs": [
    {
     "name": "stdout",
     "output_type": "stream",
     "text": [
      "<class 'pandas.core.frame.DataFrame'>\n",
      "RangeIndex: 1500000 entries, 0 to 1499999\n",
      "Data columns (total 4 columns):\n",
      " #   Column     Non-Null Count    Dtype  \n",
      "---  ------     --------------    -----  \n",
      " 0   userId     1500000 non-null  int64  \n",
      " 1   rating     1500000 non-null  float64\n",
      " 2   timestamp  1500000 non-null  int64  \n",
      " 3   movieId    1500000 non-null  object \n",
      "dtypes: float64(1), int64(2), object(1)\n",
      "memory usage: 45.8+ MB\n",
      "-----------------------------------\n",
      "userId       0\n",
      "rating       0\n",
      "timestamp    0\n",
      "movieId      0\n",
      "dtype: int64\n",
      "-----------------------------------\n"
     ]
    },
    {
     "data": {
      "text/plain": [
       "18"
      ]
     },
     "execution_count": 89,
     "metadata": {},
     "output_type": "execute_result"
    }
   ],
   "source": [
    "df_4.info()\n",
    "print(\"-----------------------------------\")\n",
    "print(df_4.isnull().sum())\n",
    "print('-----------------------------------')\n",
    "df_4.duplicated().sum()"
   ]
  },
  {
   "cell_type": "code",
   "execution_count": 90,
   "metadata": {},
   "outputs": [
    {
     "name": "stdout",
     "output_type": "stream",
     "text": [
      "<class 'pandas.core.frame.DataFrame'>\n",
      "RangeIndex: 1500000 entries, 0 to 1499999\n",
      "Data columns (total 4 columns):\n",
      " #   Column     Non-Null Count    Dtype  \n",
      "---  ------     --------------    -----  \n",
      " 0   userId     1500000 non-null  int64  \n",
      " 1   rating     1500000 non-null  float64\n",
      " 2   timestamp  1500000 non-null  int64  \n",
      " 3   movieId    1500000 non-null  object \n",
      "dtypes: float64(1), int64(2), object(1)\n",
      "memory usage: 45.8+ MB\n",
      "-----------------------------------\n",
      "userId       0\n",
      "rating       0\n",
      "timestamp    0\n",
      "movieId      0\n",
      "dtype: int64\n",
      "-----------------------------------\n"
     ]
    },
    {
     "data": {
      "text/plain": [
       "8"
      ]
     },
     "execution_count": 90,
     "metadata": {},
     "output_type": "execute_result"
    }
   ],
   "source": [
    "df_5.info()\n",
    "print(\"-----------------------------------\")\n",
    "print(df_5.isnull().sum())\n",
    "print('-----------------------------------')\n",
    "df_5.duplicated().sum()"
   ]
  },
  {
   "cell_type": "code",
   "execution_count": 91,
   "metadata": {},
   "outputs": [
    {
     "name": "stdout",
     "output_type": "stream",
     "text": [
      "<class 'pandas.core.frame.DataFrame'>\n",
      "RangeIndex: 1500000 entries, 0 to 1499999\n",
      "Data columns (total 4 columns):\n",
      " #   Column     Non-Null Count    Dtype  \n",
      "---  ------     --------------    -----  \n",
      " 0   userId     1500000 non-null  int64  \n",
      " 1   rating     1500000 non-null  float64\n",
      " 2   timestamp  1500000 non-null  int64  \n",
      " 3   movieId    1500000 non-null  object \n",
      "dtypes: float64(1), int64(2), object(1)\n",
      "memory usage: 45.8+ MB\n",
      "-----------------------------------\n",
      "userId       0\n",
      "rating       0\n",
      "timestamp    0\n",
      "movieId      0\n",
      "dtype: int64\n",
      "-----------------------------------\n"
     ]
    },
    {
     "data": {
      "text/plain": [
       "22"
      ]
     },
     "execution_count": 91,
     "metadata": {},
     "output_type": "execute_result"
    }
   ],
   "source": [
    "df_6.info()\n",
    "print(\"-----------------------------------\")\n",
    "print(df_6.isnull().sum())\n",
    "print('-----------------------------------')\n",
    "df_6.duplicated().sum()"
   ]
  },
  {
   "cell_type": "code",
   "execution_count": 92,
   "metadata": {},
   "outputs": [
    {
     "name": "stdout",
     "output_type": "stream",
     "text": [
      "<class 'pandas.core.frame.DataFrame'>\n",
      "RangeIndex: 524289 entries, 0 to 524288\n",
      "Data columns (total 4 columns):\n",
      " #   Column     Non-Null Count   Dtype  \n",
      "---  ------     --------------   -----  \n",
      " 0   userId     524289 non-null  int64  \n",
      " 1   rating     524289 non-null  float64\n",
      " 2   timestamp  524289 non-null  int64  \n",
      " 3   movieId    524289 non-null  object \n",
      "dtypes: float64(1), int64(2), object(1)\n",
      "memory usage: 16.0+ MB\n",
      "-----------------------------------\n",
      "userId       0\n",
      "rating       0\n",
      "timestamp    0\n",
      "movieId      0\n",
      "dtype: int64\n",
      "-----------------------------------\n"
     ]
    },
    {
     "data": {
      "text/plain": [
       "9"
      ]
     },
     "execution_count": 92,
     "metadata": {},
     "output_type": "execute_result"
    }
   ],
   "source": [
    "df_7.info()\n",
    "print(\"-----------------------------------\")\n",
    "print(df_7.isnull().sum())\n",
    "print('-----------------------------------')\n",
    "df_7.duplicated().sum()"
   ]
  },
  {
   "cell_type": "code",
   "execution_count": 93,
   "metadata": {},
   "outputs": [
    {
     "name": "stdout",
     "output_type": "stream",
     "text": [
      "<class 'pandas.core.frame.DataFrame'>\n",
      "RangeIndex: 1500000 entries, 0 to 1499999\n",
      "Data columns (total 4 columns):\n",
      " #   Column     Non-Null Count    Dtype  \n",
      "---  ------     --------------    -----  \n",
      " 0   userId     1500000 non-null  int64  \n",
      " 1   rating     1500000 non-null  float64\n",
      " 2   timestamp  1500000 non-null  int64  \n",
      " 3   movieId    1500000 non-null  object \n",
      "dtypes: float64(1), int64(2), object(1)\n",
      "memory usage: 45.8+ MB\n",
      "-----------------------------------\n",
      "userId       0\n",
      "rating       0\n",
      "timestamp    0\n",
      "movieId      0\n",
      "dtype: int64\n",
      "-----------------------------------\n"
     ]
    },
    {
     "data": {
      "text/plain": [
       "20"
      ]
     },
     "execution_count": 93,
     "metadata": {},
     "output_type": "execute_result"
    }
   ],
   "source": [
    "df_8.info()\n",
    "print(\"-----------------------------------\")\n",
    "print(df_8.isnull().sum())\n",
    "print('-----------------------------------')\n",
    "df_8.duplicated().sum()"
   ]
  },
  {
   "cell_type": "code",
   "execution_count": 4,
   "metadata": {},
   "outputs": [],
   "source": [
    "# Cambio el tipo de dato de la columna 'timestamp':\n",
    "df_1[\"timestamp\"] = pd.to_datetime(df_1[\"timestamp\"], unit='s').dt.strftime('%Y-%m-%d')\n",
    "df_2[\"timestamp\"] = pd.to_datetime(df_2[\"timestamp\"], unit='s').dt.strftime('%Y-%m-%d')\n",
    "df_3[\"timestamp\"] = pd.to_datetime(df_3[\"timestamp\"], unit='s').dt.strftime('%Y-%m-%d')\n",
    "df_4[\"timestamp\"] = pd.to_datetime(df_4[\"timestamp\"], unit='s').dt.strftime('%Y-%m-%d')\n",
    "df_5[\"timestamp\"] = pd.to_datetime(df_5[\"timestamp\"], unit='s').dt.strftime('%Y-%m-%d')\n",
    "df_6[\"timestamp\"] = pd.to_datetime(df_6[\"timestamp\"], unit='s').dt.strftime('%Y-%m-%d')\n",
    "df_7[\"timestamp\"] = pd.to_datetime(df_7[\"timestamp\"], unit='s').dt.strftime('%Y-%m-%d')\n",
    "df_8[\"timestamp\"] = pd.to_datetime(df_8[\"timestamp\"], unit='s').dt.strftime('%Y-%m-%d')"
   ]
  },
  {
   "cell_type": "code",
   "execution_count": 5,
   "metadata": {},
   "outputs": [],
   "source": [
    "df_1[\"timestamp\"] = pd.to_datetime(df_1[\"timestamp\"])\n",
    "df_2[\"timestamp\"] = pd.to_datetime(df_2[\"timestamp\"])\n",
    "df_3[\"timestamp\"] = pd.to_datetime(df_3[\"timestamp\"])\n",
    "df_4[\"timestamp\"] = pd.to_datetime(df_4[\"timestamp\"])\n",
    "df_5[\"timestamp\"] = pd.to_datetime(df_5[\"timestamp\"])\n",
    "df_6[\"timestamp\"] = pd.to_datetime(df_6[\"timestamp\"])\n",
    "df_7[\"timestamp\"] = pd.to_datetime(df_7[\"timestamp\"])\n",
    "df_8[\"timestamp\"] = pd.to_datetime(df_8[\"timestamp\"])"
   ]
  },
  {
   "cell_type": "code",
   "execution_count": 6,
   "metadata": {},
   "outputs": [],
   "source": [
    "# Renombro la columna ''rating' por un nombre más apropiado ('score'):\n",
    "df_1.rename(columns={'rating': 'score'}, inplace=True)\n",
    "df_2.rename(columns={'rating': 'score'}, inplace=True)\n",
    "df_3.rename(columns={'rating': 'score'}, inplace=True)\n",
    "df_4.rename(columns={'rating': 'score'}, inplace=True)\n",
    "df_5.rename(columns={'rating': 'score'}, inplace=True)\n",
    "df_6.rename(columns={'rating': 'score'}, inplace=True)\n",
    "df_7.rename(columns={'rating': 'score'}, inplace=True)\n",
    "df_8.rename(columns={'rating': 'score'}, inplace=True)"
   ]
  },
  {
   "cell_type": "code",
   "execution_count": 7,
   "metadata": {},
   "outputs": [],
   "source": [
    "# Renombro la columna ''movieId' por 'id':\n",
    "df_1.rename(columns={'movieId': 'id'}, inplace=True)\n",
    "df_2.rename(columns={'movieId': 'id'}, inplace=True)\n",
    "df_3.rename(columns={'movieId': 'id'}, inplace=True)\n",
    "df_4.rename(columns={'movieId': 'id'}, inplace=True)\n",
    "df_5.rename(columns={'movieId': 'id'}, inplace=True)\n",
    "df_6.rename(columns={'movieId': 'id'}, inplace=True)\n",
    "df_7.rename(columns={'movieId': 'id'}, inplace=True)\n",
    "df_8.rename(columns={'movieId': 'id'}, inplace=True)"
   ]
  },
  {
   "cell_type": "code",
   "execution_count": 8,
   "metadata": {},
   "outputs": [
    {
     "data": {
      "text/html": [
       "<div>\n",
       "<style scoped>\n",
       "    .dataframe tbody tr th:only-of-type {\n",
       "        vertical-align: middle;\n",
       "    }\n",
       "\n",
       "    .dataframe tbody tr th {\n",
       "        vertical-align: top;\n",
       "    }\n",
       "\n",
       "    .dataframe thead th {\n",
       "        text-align: right;\n",
       "    }\n",
       "</style>\n",
       "<table border=\"1\" class=\"dataframe\">\n",
       "  <thead>\n",
       "    <tr style=\"text-align: right;\">\n",
       "      <th></th>\n",
       "      <th>userId</th>\n",
       "      <th>score</th>\n",
       "      <th>timestamp</th>\n",
       "      <th>id</th>\n",
       "    </tr>\n",
       "  </thead>\n",
       "  <tbody>\n",
       "    <tr>\n",
       "      <th>0</th>\n",
       "      <td>1</td>\n",
       "      <td>1.0</td>\n",
       "      <td>2015-03-09</td>\n",
       "      <td>as680</td>\n",
       "    </tr>\n",
       "    <tr>\n",
       "      <th>1</th>\n",
       "      <td>1</td>\n",
       "      <td>4.5</td>\n",
       "      <td>2015-03-09</td>\n",
       "      <td>ns2186</td>\n",
       "    </tr>\n",
       "    <tr>\n",
       "      <th>2</th>\n",
       "      <td>1</td>\n",
       "      <td>5.0</td>\n",
       "      <td>2015-03-09</td>\n",
       "      <td>hs2381</td>\n",
       "    </tr>\n",
       "    <tr>\n",
       "      <th>3</th>\n",
       "      <td>1</td>\n",
       "      <td>5.0</td>\n",
       "      <td>2015-03-09</td>\n",
       "      <td>ns3663</td>\n",
       "    </tr>\n",
       "    <tr>\n",
       "      <th>4</th>\n",
       "      <td>1</td>\n",
       "      <td>5.0</td>\n",
       "      <td>2015-03-09</td>\n",
       "      <td>as9500</td>\n",
       "    </tr>\n",
       "  </tbody>\n",
       "</table>\n",
       "</div>"
      ],
      "text/plain": [
       "   userId  score  timestamp      id\n",
       "0       1    1.0 2015-03-09   as680\n",
       "1       1    4.5 2015-03-09  ns2186\n",
       "2       1    5.0 2015-03-09  hs2381\n",
       "3       1    5.0 2015-03-09  ns3663\n",
       "4       1    5.0 2015-03-09  as9500"
      ]
     },
     "execution_count": 8,
     "metadata": {},
     "output_type": "execute_result"
    }
   ],
   "source": [
    "# Visualizo un dataframe para corroborar los cambios realizados\n",
    "df_1.head()"
   ]
  },
  {
   "cell_type": "code",
   "execution_count": 9,
   "metadata": {},
   "outputs": [],
   "source": [
    "# Concateno los dataframes de plataformas\n",
    "df_score = pd.concat([df_1, df_2, df_3, df_4, df_5, df_6, df_7, df_8])"
   ]
  },
  {
   "cell_type": "code",
   "execution_count": 52,
   "metadata": {},
   "outputs": [
    {
     "name": "stdout",
     "output_type": "stream",
     "text": [
      "<class 'pandas.core.frame.DataFrame'>\n",
      "Int64Index: 11013823 entries, 0 to 1499999\n",
      "Data columns (total 4 columns):\n",
      " #   Column     Dtype         \n",
      "---  ------     -----         \n",
      " 0   userId     int64         \n",
      " 1   score      float64       \n",
      " 2   timestamp  datetime64[ns]\n",
      " 3   id         object        \n",
      "dtypes: datetime64[ns](1), float64(1), int64(1), object(1)\n",
      "memory usage: 420.1+ MB\n",
      "-----------------------------------\n",
      "userId       0\n",
      "score        0\n",
      "timestamp    0\n",
      "id           0\n",
      "dtype: int64\n",
      "-----------------------------------\n"
     ]
    },
    {
     "data": {
      "text/plain": [
       "0"
      ]
     },
     "execution_count": 52,
     "metadata": {},
     "output_type": "execute_result"
    }
   ],
   "source": [
    "df_score.info()\n",
    "print(\"-----------------------------------\")\n",
    "print(df_score.isnull().sum())\n",
    "print('-----------------------------------')\n",
    "df_score.duplicated().sum()"
   ]
  },
  {
   "cell_type": "code",
   "execution_count": 12,
   "metadata": {},
   "outputs": [],
   "source": [
    "# Exporto el archivo a un parquet nuevo:\n",
    "df_score.to_parquet(\"score_total.parquet\", index=False)"
   ]
  },
  {
   "cell_type": "code",
   "execution_count": 44,
   "metadata": {},
   "outputs": [],
   "source": [
    "# Creo un dataframe con los valores promedios de score agrupado por id \n",
    "df_score_mean = df_score.groupby('id').score.mean().reset_index()"
   ]
  },
  {
   "cell_type": "code",
   "execution_count": 45,
   "metadata": {},
   "outputs": [],
   "source": [
    "# Redondeo los valores de score a 1 decimal:\n",
    "df_score_mean['score_r'] = df_score_mean['score'].map(lambda x: '%.1f' % x)"
   ]
  },
  {
   "cell_type": "code",
   "execution_count": 46,
   "metadata": {},
   "outputs": [],
   "source": [
    "# Elimino la columna score y renombro a score_r\n",
    "df_score_mean.drop(['score'], axis=1, inplace=True)\n",
    "df_score_mean.rename(columns={'score_r': 'score'}, inplace=True)"
   ]
  },
  {
   "cell_type": "code",
   "execution_count": 47,
   "metadata": {},
   "outputs": [
    {
     "name": "stdout",
     "output_type": "stream",
     "text": [
      "<class 'pandas.core.frame.DataFrame'>\n",
      "RangeIndex: 22998 entries, 0 to 22997\n",
      "Data columns (total 2 columns):\n",
      " #   Column  Non-Null Count  Dtype \n",
      "---  ------  --------------  ----- \n",
      " 0   id      22998 non-null  object\n",
      " 1   score   22998 non-null  object\n",
      "dtypes: object(2)\n",
      "memory usage: 359.5+ KB\n"
     ]
    }
   ],
   "source": [
    "df_score_mean.info()"
   ]
  },
  {
   "cell_type": "code",
   "execution_count": null,
   "metadata": {},
   "outputs": [],
   "source": [
    "# Fusiono los dos datasets\n",
    "platform_score = pd.merge(df_platforms, df_score_mean)"
   ]
  },
  {
   "cell_type": "code",
   "execution_count": 56,
   "metadata": {},
   "outputs": [
    {
     "name": "stdout",
     "output_type": "stream",
     "text": [
      "<class 'pandas.core.frame.DataFrame'>\n",
      "Int64Index: 22998 entries, 0 to 22997\n",
      "Data columns (total 16 columns):\n",
      " #   Column         Non-Null Count  Dtype \n",
      "---  ------         --------------  ----- \n",
      " 0   id             22998 non-null  object\n",
      " 1   show_id        22998 non-null  string\n",
      " 2   type           22998 non-null  string\n",
      " 3   title          22998 non-null  string\n",
      " 4   director       14739 non-null  string\n",
      " 5   cast           17677 non-null  string\n",
      " 6   country        11499 non-null  string\n",
      " 7   date_added     13444 non-null  object\n",
      " 8   release_year   22998 non-null  string\n",
      " 9   rating         22998 non-null  string\n",
      " 10  listed_in      22998 non-null  string\n",
      " 11  description    22994 non-null  string\n",
      " 12  plataforma     22998 non-null  object\n",
      " 13  duration_int   22516 non-null  Int64 \n",
      " 14  duration_type  22516 non-null  string\n",
      " 15  score          22998 non-null  object\n",
      "dtypes: Int64(1), object(4), string(11)\n",
      "memory usage: 3.0+ MB\n"
     ]
    }
   ],
   "source": [
    "# Visualizo la información\n",
    "platform_score.info()"
   ]
  },
  {
   "cell_type": "code",
   "execution_count": 51,
   "metadata": {},
   "outputs": [],
   "source": [
    "# Exporto el archivo a un csv nuevo:\n",
    "platform_score.to_csv(\"platform_score.csv\", index=False)"
   ]
  }
 ],
 "metadata": {
  "kernelspec": {
   "display_name": "Python 3",
   "language": "python",
   "name": "python3"
  },
  "language_info": {
   "codemirror_mode": {
    "name": "ipython",
    "version": 3
   },
   "file_extension": ".py",
   "mimetype": "text/x-python",
   "name": "python",
   "nbconvert_exporter": "python",
   "pygments_lexer": "ipython3",
   "version": "3.10.4"
  },
  "orig_nbformat": 4,
  "vscode": {
   "interpreter": {
    "hash": "8bb75a0417e56ed74b4ba1ade63598b502a6b4cb8034008f37da554d82e17920"
   }
  }
 },
 "nbformat": 4,
 "nbformat_minor": 2
}
